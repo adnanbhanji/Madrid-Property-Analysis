{
 "cells": [
  {
   "cell_type": "markdown",
   "metadata": {},
   "source": [
    "## Madrid Property Analysis"
   ]
  },
  {
   "cell_type": "markdown",
   "metadata": {},
   "source": [
    "Life cycle of Machine learning Project\n",
    "- Understanding the Problem Statement\n",
    "- Data Collection\n",
    "- Data Checks to perform\n",
    "- Exploratory data analysis\n",
    "- Data Pre-Processing\n",
    "- Model Training\n",
    "- Choose best model"
   ]
  },
  {
   "cell_type": "markdown",
   "metadata": {},
   "source": [
    "#### 1) Problem statement\n",
    "- This project uses the provided dataset to estimate property prices in Madrid, with a regression model using algorithms seen in class. Then the problem is redifined to create a classification problem. "
   ]
  },
  {
   "cell_type": "markdown",
   "metadata": {},
   "source": [
    "#### 2) Data Collection\n",
    "- Dataset Source - The dataset was provided to us and is located in the data/raw directory. \n",
    "- The data consists of 17857 rows and 26 columns."
   ]
  },
  {
   "cell_type": "markdown",
   "metadata": {},
   "source": [
    "##### 2.1 Import Data and Required Packages"
   ]
  },
  {
   "cell_type": "markdown",
   "metadata": {},
   "source": [
    "Importing Pandas, Numpy, Matplotlib, Seaborn and Warings Library."
   ]
  },
  {
   "cell_type": "code",
   "execution_count": 7,
   "metadata": {},
   "outputs": [],
   "source": [
    "import numpy as np\n",
    "import pandas as pd\n",
    "import seaborn as sns\n",
    "import matplotlib.pyplot as plt\n",
    "import openpyxl\n",
    "%matplotlib inline\n",
    "import warnings\n",
    "warnings.filterwarnings('ignore')"
   ]
  },
  {
   "cell_type": "markdown",
   "metadata": {},
   "source": [
    "Import the Excel Data as Pandas DataFrame"
   ]
  },
  {
   "cell_type": "code",
   "execution_count": 9,
   "metadata": {},
   "outputs": [],
   "source": [
    "df = pd.read_excel('../data/raw/session_7_dataset.xlsx')"
   ]
  },
  {
   "cell_type": "markdown",
   "metadata": {},
   "source": [
    "Show Top 5 Records"
   ]
  },
  {
   "cell_type": "code",
   "execution_count": 16,
   "metadata": {},
   "outputs": [
    {
     "data": {
      "text/html": [
       "<div>\n",
       "<style scoped>\n",
       "    .dataframe tbody tr th:only-of-type {\n",
       "        vertical-align: middle;\n",
       "    }\n",
       "\n",
       "    .dataframe tbody tr th {\n",
       "        vertical-align: top;\n",
       "    }\n",
       "\n",
       "    .dataframe thead th {\n",
       "        text-align: right;\n",
       "    }\n",
       "</style>\n",
       "<table border=\"1\" class=\"dataframe\">\n",
       "  <thead>\n",
       "    <tr style=\"text-align: right;\">\n",
       "      <th></th>\n",
       "      <th>Unnamed: 0</th>\n",
       "      <th>inm_floor</th>\n",
       "      <th>inm_size</th>\n",
       "      <th>inm_price</th>\n",
       "      <th>inm_longitude</th>\n",
       "      <th>inm_latitude</th>\n",
       "      <th>inm_barrio</th>\n",
       "      <th>inm_distrito</th>\n",
       "      <th>his_price</th>\n",
       "      <th>his_quarterly_variation</th>\n",
       "      <th>...</th>\n",
       "      <th>dem_TasaDeParo</th>\n",
       "      <th>dem_TamanoMedioDelHogar</th>\n",
       "      <th>dem_PropSinEstudiosUniversitarios</th>\n",
       "      <th>dem_PropSinEstudios</th>\n",
       "      <th>dem_Proporcion_de_nacidos_fuera_de_Espana</th>\n",
       "      <th>dem_PropConEstudiosUniversitarios</th>\n",
       "      <th>dem_PobTotal</th>\n",
       "      <th>dem_NumViviendas</th>\n",
       "      <th>dem_EdadMedia</th>\n",
       "      <th>dem_Densidad_(Habit/Ha)</th>\n",
       "    </tr>\n",
       "  </thead>\n",
       "  <tbody>\n",
       "    <tr>\n",
       "      <th>0</th>\n",
       "      <td>0</td>\n",
       "      <td>3.0</td>\n",
       "      <td>141.0</td>\n",
       "      <td>990000</td>\n",
       "      <td>-3.656875</td>\n",
       "      <td>40.464347</td>\n",
       "      <td>Canillas</td>\n",
       "      <td>Hortaleza</td>\n",
       "      <td>3250</td>\n",
       "      <td>2.2</td>\n",
       "      <td>...</td>\n",
       "      <td>8.724674</td>\n",
       "      <td>2.527886</td>\n",
       "      <td>0.488949</td>\n",
       "      <td>0.175632</td>\n",
       "      <td>15.456193</td>\n",
       "      <td>NaN</td>\n",
       "      <td>40838</td>\n",
       "      <td>16155</td>\n",
       "      <td>NaN</td>\n",
       "      <td>161.894356</td>\n",
       "    </tr>\n",
       "    <tr>\n",
       "      <th>1</th>\n",
       "      <td>1</td>\n",
       "      <td>2.0</td>\n",
       "      <td>159.0</td>\n",
       "      <td>940000</td>\n",
       "      <td>-3.703523</td>\n",
       "      <td>40.419427</td>\n",
       "      <td>Universidad</td>\n",
       "      <td>Centro</td>\n",
       "      <td>5106</td>\n",
       "      <td>1.4</td>\n",
       "      <td>...</td>\n",
       "      <td>9.006094</td>\n",
       "      <td>1.975877</td>\n",
       "      <td>0.386598</td>\n",
       "      <td>0.083812</td>\n",
       "      <td>32.102460</td>\n",
       "      <td>0.529590</td>\n",
       "      <td>33418</td>\n",
       "      <td>16913</td>\n",
       "      <td>43.678945</td>\n",
       "      <td>352.500616</td>\n",
       "    </tr>\n",
       "    <tr>\n",
       "      <th>2</th>\n",
       "      <td>2</td>\n",
       "      <td>NaN</td>\n",
       "      <td>NaN</td>\n",
       "      <td>549000</td>\n",
       "      <td>-3.669626</td>\n",
       "      <td>40.435362</td>\n",
       "      <td>Guindalera</td>\n",
       "      <td>Salamanca</td>\n",
       "      <td>4100</td>\n",
       "      <td>0.6</td>\n",
       "      <td>...</td>\n",
       "      <td>7.441379</td>\n",
       "      <td>2.369951</td>\n",
       "      <td>0.365818</td>\n",
       "      <td>0.070351</td>\n",
       "      <td>18.224365</td>\n",
       "      <td>0.563831</td>\n",
       "      <td>42306</td>\n",
       "      <td>17851</td>\n",
       "      <td>46.477166</td>\n",
       "      <td>263.952286</td>\n",
       "    </tr>\n",
       "    <tr>\n",
       "      <th>3</th>\n",
       "      <td>3</td>\n",
       "      <td>2.0</td>\n",
       "      <td>232.0</td>\n",
       "      <td>750000</td>\n",
       "      <td>-3.720619</td>\n",
       "      <td>40.424164</td>\n",
       "      <td>Argüelles</td>\n",
       "      <td>Moncloa - Aravaca</td>\n",
       "      <td>4773</td>\n",
       "      <td>0.5</td>\n",
       "      <td>...</td>\n",
       "      <td>6.709633</td>\n",
       "      <td>2.328217</td>\n",
       "      <td>0.343683</td>\n",
       "      <td>0.066403</td>\n",
       "      <td>20.963846</td>\n",
       "      <td>0.589914</td>\n",
       "      <td>24423</td>\n",
       "      <td>10490</td>\n",
       "      <td>46.972342</td>\n",
       "      <td>322.402577</td>\n",
       "    </tr>\n",
       "    <tr>\n",
       "      <th>4</th>\n",
       "      <td>4</td>\n",
       "      <td>4.0</td>\n",
       "      <td>183.0</td>\n",
       "      <td>1550000</td>\n",
       "      <td>-3.705909</td>\n",
       "      <td>40.413214</td>\n",
       "      <td>Sol</td>\n",
       "      <td>Centro</td>\n",
       "      <td>4739</td>\n",
       "      <td>-5.5</td>\n",
       "      <td>...</td>\n",
       "      <td>9.058980</td>\n",
       "      <td>1.994244</td>\n",
       "      <td>0.433750</td>\n",
       "      <td>0.082242</td>\n",
       "      <td>39.490947</td>\n",
       "      <td>0.484009</td>\n",
       "      <td>7622</td>\n",
       "      <td>3822</td>\n",
       "      <td>44.632774</td>\n",
       "      <td>171.165183</td>\n",
       "    </tr>\n",
       "  </tbody>\n",
       "</table>\n",
       "<p>5 rows × 26 columns</p>\n",
       "</div>"
      ],
      "text/plain": [
       "   Unnamed: 0  inm_floor  inm_size  inm_price  inm_longitude  inm_latitude  \\\n",
       "0           0        3.0     141.0     990000      -3.656875     40.464347   \n",
       "1           1        2.0     159.0     940000      -3.703523     40.419427   \n",
       "2           2        NaN       NaN     549000      -3.669626     40.435362   \n",
       "3           3        2.0     232.0     750000      -3.720619     40.424164   \n",
       "4           4        4.0     183.0    1550000      -3.705909     40.413214   \n",
       "\n",
       "    inm_barrio       inm_distrito  his_price  his_quarterly_variation  ...  \\\n",
       "0     Canillas          Hortaleza       3250                      2.2  ...   \n",
       "1  Universidad             Centro       5106                      1.4  ...   \n",
       "2   Guindalera          Salamanca       4100                      0.6  ...   \n",
       "3    Argüelles  Moncloa - Aravaca       4773                      0.5  ...   \n",
       "4          Sol             Centro       4739                     -5.5  ...   \n",
       "\n",
       "   dem_TasaDeParo  dem_TamanoMedioDelHogar  dem_PropSinEstudiosUniversitarios  \\\n",
       "0        8.724674                 2.527886                           0.488949   \n",
       "1        9.006094                 1.975877                           0.386598   \n",
       "2        7.441379                 2.369951                           0.365818   \n",
       "3        6.709633                 2.328217                           0.343683   \n",
       "4        9.058980                 1.994244                           0.433750   \n",
       "\n",
       "   dem_PropSinEstudios  dem_Proporcion_de_nacidos_fuera_de_Espana  \\\n",
       "0             0.175632                                  15.456193   \n",
       "1             0.083812                                  32.102460   \n",
       "2             0.070351                                  18.224365   \n",
       "3             0.066403                                  20.963846   \n",
       "4             0.082242                                  39.490947   \n",
       "\n",
       "   dem_PropConEstudiosUniversitarios  dem_PobTotal  dem_NumViviendas  \\\n",
       "0                                NaN         40838             16155   \n",
       "1                           0.529590         33418             16913   \n",
       "2                           0.563831         42306             17851   \n",
       "3                           0.589914         24423             10490   \n",
       "4                           0.484009          7622              3822   \n",
       "\n",
       "   dem_EdadMedia  dem_Densidad_(Habit/Ha)  \n",
       "0            NaN               161.894356  \n",
       "1      43.678945               352.500616  \n",
       "2      46.477166               263.952286  \n",
       "3      46.972342               322.402577  \n",
       "4      44.632774               171.165183  \n",
       "\n",
       "[5 rows x 26 columns]"
      ]
     },
     "execution_count": 16,
     "metadata": {},
     "output_type": "execute_result"
    }
   ],
   "source": [
    "df.head()"
   ]
  },
  {
   "cell_type": "markdown",
   "metadata": {},
   "source": [
    "Shape of the dataset"
   ]
  },
  {
   "cell_type": "code",
   "execution_count": 17,
   "metadata": {},
   "outputs": [
    {
     "data": {
      "text/plain": [
       "(17857, 26)"
      ]
     },
     "execution_count": 17,
     "metadata": {},
     "output_type": "execute_result"
    }
   ],
   "source": [
    "df.shape"
   ]
  },
  {
   "cell_type": "markdown",
   "metadata": {},
   "source": [
    "##### 2.2 Dataset Information"
   ]
  },
  {
   "cell_type": "markdown",
   "metadata": {},
   "source": [
    " - Unnamed: 0: An index or identifier for the rows.\n",
    "- inm_floor: The floor number on which the property is located.\n",
    "- inm_size: The size of the property in square meters.\n",
    "- inm_price: The listing price of the property.\n",
    "- inm_longitude: The longitude coordinate of the property.\n",
    "- inm_latitude: The latitude coordinate of the property.\n",
    "- inm_barrio: The neighborhood name where the property is located.\n",
    "- inm_distrito: The district name where the property is located.\n",
    "- his_price: A historical pricing reference for the property.\n",
    "- his_quarterly_variation: The change in price from the previous quarter.\n",
    "- his_annual_variation: The change in price from the previous year.\n",
    "- his_monthly_variation: The change in price from the previous month.\n",
    "- dem_Indice_de_reemplazo_de_la_poblacion_activa: An index measuring the replacement rate of the working-age population.\n",
    "- dem_Indice_de_juventud: An index measuring the youthfulness of the population.\n",
    "- dem_Indice_de_estructura_de_la_poblacion_activa: An index reflecting the structure of the working-age population.\n",
    "dem_Indice_de_dependencia: An index measuring the dependency ratio in the population.\n",
    "- dem_TasaDeParo: The unemployment rate in the area.\n",
    "- dem_TamanoMedioDelHogar: The average household size.\n",
    "- dem_PropSinEstudiosUniversitarios: The proportion of the population without university-level education.\n",
    "- dem_PropSinEstudios: The proportion of the population without any educational qualifications.\n",
    "- dem_Proporcion_de_nacidos_fuera_de_Espana: The proportion of the population born outside of Spain.\n",
    "- dem_PropConEstudiosUniversitarios: The proportion of the population with university-level education.\n",
    "- dem_PobTotal: The total population in the area.\n",
    "- dem_NumViviendas: The total number of dwellings in the area.\n",
    "- dem_EdadMedia: The average age of the population in the area.\n",
    "- dem_Densidad_(Habit/Ha): The population density per hectare in the area.\n",
    "\n"
   ]
  },
  {
   "cell_type": "markdown",
   "metadata": {},
   "source": [
    "#### 3. Data Checks to perform\n",
    "\n",
    "- Check Missing values\n",
    "- Check Duplicates\n",
    "- Check data type\n",
    "- Check the number of unique values of each column\n",
    "- Check statistics of data set\n",
    "- Check various categories present in the different categorical column"
   ]
  },
  {
   "cell_type": "markdown",
   "metadata": {},
   "source": [
    "##### 3.1 Check Missing Values"
   ]
  },
  {
   "cell_type": "code",
   "execution_count": 18,
   "metadata": {},
   "outputs": [
    {
     "data": {
      "text/plain": [
       "Unnamed: 0                                            0\n",
       "inm_floor                                          3790\n",
       "inm_size                                           1767\n",
       "inm_price                                             0\n",
       "inm_longitude                                         0\n",
       "inm_latitude                                          0\n",
       "inm_barrio                                         1794\n",
       "inm_distrito                                       1747\n",
       "his_price                                             0\n",
       "his_quarterly_variation                               0\n",
       "his_annual_variation                                  0\n",
       "his_monthly_variation                                 0\n",
       "dem_Indice_de_reemplazo_de_la_poblacion_activa        0\n",
       "dem_Indice_de_juventud                                0\n",
       "dem_Indice_de_estructura_de_la_poblacion_activa       0\n",
       "dem_Indice_de_dependencia                             0\n",
       "dem_TasaDeParo                                        0\n",
       "dem_TamanoMedioDelHogar                               0\n",
       "dem_PropSinEstudiosUniversitarios                     0\n",
       "dem_PropSinEstudios                                   0\n",
       "dem_Proporcion_de_nacidos_fuera_de_Espana             0\n",
       "dem_PropConEstudiosUniversitarios                  1725\n",
       "dem_PobTotal                                          0\n",
       "dem_NumViviendas                                      0\n",
       "dem_EdadMedia                                      1790\n",
       "dem_Densidad_(Habit/Ha)                               0\n",
       "dtype: int64"
      ]
     },
     "execution_count": 18,
     "metadata": {},
     "output_type": "execute_result"
    }
   ],
   "source": [
    "df.isna().sum()"
   ]
  },
  {
   "cell_type": "markdown",
   "metadata": {},
   "source": [
    "Here's how we will take care of the missing values\n",
    "If there were a few or a small portion of values missing, we could delete them, however as the missing values are a large portion, we will do the following. \n",
    "\n",
    "- Mean / Median Imputation: For the numerical values, the mean/median imputation is one of the best techniques. Choosing which one from those will depend on how the data is skewed/ with outliers, (we will make a boxplot to visalize that)\n",
    "\n",
    "- For categorical values, we can fill with placeholders. \n"
   ]
  },
  {
   "cell_type": "code",
   "execution_count": 19,
   "metadata": {},
   "outputs": [
    {
     "data": {
      "image/png": "[encoded data removed]",
      "text/plain": [
       "<Figure size 1000x600 with 1 Axes>"
      ]
     },
     "metadata": {},
     "output_type": "display_data"
    }
   ],
   "source": [
    "# Plotting the boxplot for the 'inm_floor' column\n",
    "plt.figure(figsize=(10, 6))\n",
    "sns.boxplot(y=df['inm_floor'])\n",
    "plt.title('Boxplot of Floor Numbers')\n",
    "plt.ylabel('Floor Number')\n",
    "plt.show()"
   ]
  },
  {
   "cell_type": "markdown",
   "metadata": {},
   "source": [
    "Given the presence of outliers, using the median to impute missing values would be a better choice because the median is not affected by these extreme values as much as the mean would be. We can do so with the following."
   ]
  },
  {
   "cell_type": "code",
   "execution_count": 20,
   "metadata": {},
   "outputs": [],
   "source": [
    "# Calculate the median of the 'inm_floor' column\n",
    "floor_median = df['inm_floor'].median()\n",
    "\n",
    "# Replace missing values with the median\n",
    "df['inm_floor'].fillna(floor_median, inplace=True)"
   ]
  },
  {
   "cell_type": "markdown",
   "metadata": {},
   "source": [
    "Size is also very important and as we have many missing values, we can also perform a check for that. Instead of checking for outliers now, we can check and see if the data is very skewed, indicating we would need to use median imputation. "
   ]
  },
  {
   "cell_type": "code",
   "execution_count": 21,
   "metadata": {},
   "outputs": [
    {
     "data": {
      "image/png": "[encoded data removed]",
      "text/plain": [
       "<Figure size 1000x600 with 1 Axes>"
      ]
     },
     "metadata": {},
     "output_type": "display_data"
    }
   ],
   "source": [
    "# Plotting the histogram for the 'inm_size' column\n",
    "plt.figure(figsize=(10, 6))\n",
    "sns.histplot(df['inm_size'], kde=True)\n",
    "plt.title('Histogram of Property Sizes')\n",
    "plt.xlabel('Size in Square Meters')\n",
    "plt.ylabel('Frequency')\n",
    "plt.show()"
   ]
  },
  {
   "cell_type": "markdown",
   "metadata": {},
   "source": [
    "And as we can see, it appears to be very skewed, hence we will do median imputation. "
   ]
  },
  {
   "cell_type": "code",
   "execution_count": 28,
   "metadata": {},
   "outputs": [],
   "source": [
    "# Calculate the median of the 'inm_size' column\n",
    "size_median = df['inm_size'].median()\n",
    "\n",
    "# Replace missing values with the median\n",
    "df['inm_size'].fillna(size_median, inplace=True)"
   ]
  },
  {
   "cell_type": "markdown",
   "metadata": {},
   "source": [
    "For inm_barrio and inm_distrito, as they are categorical values, we will use placeholder values of Unknown to fill them. "
   ]
  },
  {
   "cell_type": "code",
   "execution_count": 23,
   "metadata": {},
   "outputs": [],
   "source": [
    "# Fill missing values with \"Unknown\"\n",
    "df['inm_barrio'].fillna('Unknown', inplace=True)\n",
    "df['inm_distrito'].fillna('Unknown', inplace=True)"
   ]
  },
  {
   "cell_type": "markdown",
   "metadata": {},
   "source": [
    "When dealing with demographic proportions or populations, again median imputation is typically a good solution as its robust to outliers and skewed distributions. However, we will first check with boxplots for the features dem_PropConEstudiosUniversitarios and dem_EdadMedia. "
   ]
  },
  {
   "cell_type": "code",
   "execution_count": 24,
   "metadata": {},
   "outputs": [
    {
     "data": {
      "image/png": "[encoded data removed]",
      "text/plain": [
       "<Figure size 1500x600 with 2 Axes>"
      ]
     },
     "metadata": {},
     "output_type": "display_data"
    }
   ],
   "source": [
    "# Plotting boxplots for 'dem_PropConEstudiosUniversitarios' and 'dem_EdadMedia'\n",
    "fig, axes = plt.subplots(1, 2, figsize=(15, 6))\n",
    "\n",
    "# Boxplot for 'dem_PropConEstudiosUniversitarios'\n",
    "sns.boxplot(y=df['dem_PropConEstudiosUniversitarios'], ax=axes[0])\n",
    "axes[0].set_title('Boxplot of Proportion with University Education')\n",
    "\n",
    "# Boxplot for 'dem_EdadMedia'\n",
    "sns.boxplot(y=df['dem_EdadMedia'], ax=axes[1])\n",
    "axes[1].set_title('Boxplot of Average Age')\n",
    "\n",
    "plt.tight_layout()\n",
    "plt.show()"
   ]
  },
  {
   "cell_type": "markdown",
   "metadata": {},
   "source": [
    "Based on above results, the first one doesn't have outliers and doesn't seem very skewed, so will use mean for that, and median for the second one.  "
   ]
  },
  {
   "cell_type": "code",
   "execution_count": 25,
   "metadata": {},
   "outputs": [],
   "source": [
    "# Imputation for 'dem_PropConEstudiosUniversitarios' using the mean\n",
    "prop_univ_mean = df['dem_PropConEstudiosUniversitarios'].mean()\n",
    "df['dem_PropConEstudiosUniversitarios'].fillna(prop_univ_mean, inplace=True)\n",
    "\n",
    "# Imputation for 'dem_EdadMedia' using the median\n",
    "edad_media_median = df['dem_EdadMedia'].median()\n",
    "df['dem_EdadMedia'].fillna(edad_media_median, inplace=True)"
   ]
  },
  {
   "cell_type": "markdown",
   "metadata": {},
   "source": [
    "After completing all imputations and taking care of all missing values, we can do a final check to see that there are no missing values anymore. "
   ]
  },
  {
   "cell_type": "code",
   "execution_count": 29,
   "metadata": {},
   "outputs": [
    {
     "data": {
      "text/plain": [
       "Unnamed: 0                                         0\n",
       "inm_floor                                          0\n",
       "inm_size                                           0\n",
       "inm_price                                          0\n",
       "inm_longitude                                      0\n",
       "inm_latitude                                       0\n",
       "inm_barrio                                         0\n",
       "inm_distrito                                       0\n",
       "his_price                                          0\n",
       "his_quarterly_variation                            0\n",
       "his_annual_variation                               0\n",
       "his_monthly_variation                              0\n",
       "dem_Indice_de_reemplazo_de_la_poblacion_activa     0\n",
       "dem_Indice_de_juventud                             0\n",
       "dem_Indice_de_estructura_de_la_poblacion_activa    0\n",
       "dem_Indice_de_dependencia                          0\n",
       "dem_TasaDeParo                                     0\n",
       "dem_TamanoMedioDelHogar                            0\n",
       "dem_PropSinEstudiosUniversitarios                  0\n",
       "dem_PropSinEstudios                                0\n",
       "dem_Proporcion_de_nacidos_fuera_de_Espana          0\n",
       "dem_PropConEstudiosUniversitarios                  0\n",
       "dem_PobTotal                                       0\n",
       "dem_NumViviendas                                   0\n",
       "dem_EdadMedia                                      0\n",
       "dem_Densidad_(Habit/Ha)                            0\n",
       "dtype: int64"
      ]
     },
     "execution_count": 29,
     "metadata": {},
     "output_type": "execute_result"
    }
   ],
   "source": [
    "df.isna().sum()"
   ]
  },
  {
   "cell_type": "markdown",
   "metadata": {},
   "source": [
    "Now we can move on to the next step.\n",
    "#### 3.2 Check Duplicates"
   ]
  },
  {
   "cell_type": "code",
   "execution_count": 30,
   "metadata": {},
   "outputs": [
    {
     "data": {
      "text/plain": [
       "0"
      ]
     },
     "execution_count": 30,
     "metadata": {},
     "output_type": "execute_result"
    }
   ],
   "source": [
    "df.duplicated().sum()"
   ]
  },
  {
   "cell_type": "markdown",
   "metadata": {},
   "source": [
    "There are no duplicates values in the data set"
   ]
  },
  {
   "cell_type": "markdown",
   "metadata": {},
   "source": [
    "#### 3.3 Check data types\n"
   ]
  },
  {
   "cell_type": "code",
   "execution_count": 31,
   "metadata": {},
   "outputs": [
    {
     "name": "stdout",
     "output_type": "stream",
     "text": [
      "<class 'pandas.core.frame.DataFrame'>\n",
      "RangeIndex: 17857 entries, 0 to 17856\n",
      "Data columns (total 26 columns):\n",
      " #   Column                                           Non-Null Count  Dtype  \n",
      "---  ------                                           --------------  -----  \n",
      " 0   Unnamed: 0                                       17857 non-null  int64  \n",
      " 1   inm_floor                                        17857 non-null  float64\n",
      " 2   inm_size                                         17857 non-null  float64\n",
      " 3   inm_price                                        17857 non-null  int64  \n",
      " 4   inm_longitude                                    17857 non-null  float64\n",
      " 5   inm_latitude                                     17857 non-null  float64\n",
      " 6   inm_barrio                                       17857 non-null  object \n",
      " 7   inm_distrito                                     17857 non-null  object \n",
      " 8   his_price                                        17857 non-null  int64  \n",
      " 9   his_quarterly_variation                          17857 non-null  float64\n",
      " 10  his_annual_variation                             17857 non-null  float64\n",
      " 11  his_monthly_variation                            17857 non-null  float64\n",
      " 12  dem_Indice_de_reemplazo_de_la_poblacion_activa   17857 non-null  float64\n",
      " 13  dem_Indice_de_juventud                           17857 non-null  float64\n",
      " 14  dem_Indice_de_estructura_de_la_poblacion_activa  17857 non-null  float64\n",
      " 15  dem_Indice_de_dependencia                        17857 non-null  float64\n",
      " 16  dem_TasaDeParo                                   17857 non-null  float64\n",
      " 17  dem_TamanoMedioDelHogar                          17857 non-null  float64\n",
      " 18  dem_PropSinEstudiosUniversitarios                17857 non-null  float64\n",
      " 19  dem_PropSinEstudios                              17857 non-null  float64\n",
      " 20  dem_Proporcion_de_nacidos_fuera_de_Espana        17857 non-null  float64\n",
      " 21  dem_PropConEstudiosUniversitarios                17857 non-null  float64\n",
      " 22  dem_PobTotal                                     17857 non-null  int64  \n",
      " 23  dem_NumViviendas                                 17857 non-null  int64  \n",
      " 24  dem_EdadMedia                                    17857 non-null  float64\n",
      " 25  dem_Densidad_(Habit/Ha)                          17857 non-null  float64\n",
      "dtypes: float64(19), int64(5), object(2)\n",
      "memory usage: 3.5+ MB\n"
     ]
    }
   ],
   "source": [
    "# Check Null and Dtypes\n",
    "df.info()"
   ]
  },
  {
   "cell_type": "markdown",
   "metadata": {},
   "source": [
    "#### 3.4 Checking the number of unique values of each column"
   ]
  },
  {
   "cell_type": "code",
   "execution_count": 32,
   "metadata": {},
   "outputs": [
    {
     "data": {
      "text/plain": [
       "Unnamed: 0                                         17857\n",
       "inm_floor                                             23\n",
       "inm_size                                             675\n",
       "inm_price                                           2340\n",
       "inm_longitude                                      16013\n",
       "inm_latitude                                       16104\n",
       "inm_barrio                                           122\n",
       "inm_distrito                                          22\n",
       "his_price                                            120\n",
       "his_quarterly_variation                               70\n",
       "his_annual_variation                                  89\n",
       "his_monthly_variation                                 57\n",
       "dem_Indice_de_reemplazo_de_la_poblacion_activa       121\n",
       "dem_Indice_de_juventud                               121\n",
       "dem_Indice_de_estructura_de_la_poblacion_activa      121\n",
       "dem_Indice_de_dependencia                            121\n",
       "dem_TasaDeParo                                       121\n",
       "dem_TamanoMedioDelHogar                              121\n",
       "dem_PropSinEstudiosUniversitarios                    121\n",
       "dem_PropSinEstudios                                  121\n",
       "dem_Proporcion_de_nacidos_fuera_de_Espana            121\n",
       "dem_PropConEstudiosUniversitarios                    122\n",
       "dem_PobTotal                                         121\n",
       "dem_NumViviendas                                     120\n",
       "dem_EdadMedia                                        121\n",
       "dem_Densidad_(Habit/Ha)                              121\n",
       "dtype: int64"
      ]
     },
     "execution_count": 32,
     "metadata": {},
     "output_type": "execute_result"
    }
   ],
   "source": [
    "df.nunique()"
   ]
  },
  {
   "cell_type": "markdown",
   "metadata": {},
   "source": [
    "#### 3.5 Check statistics of data set"
   ]
  },
  {
   "cell_type": "code",
   "execution_count": 33,
   "metadata": {},
   "outputs": [
    {
     "data": {
      "text/html": [
       "<div>\n",
       "<style scoped>\n",
       "    .dataframe tbody tr th:only-of-type {\n",
       "        vertical-align: middle;\n",
       "    }\n",
       "\n",
       "    .dataframe tbody tr th {\n",
       "        vertical-align: top;\n",
       "    }\n",
       "\n",
       "    .dataframe thead th {\n",
       "        text-align: right;\n",
       "    }\n",
       "</style>\n",
       "<table border=\"1\" class=\"dataframe\">\n",
       "  <thead>\n",
       "    <tr style=\"text-align: right;\">\n",
       "      <th></th>\n",
       "      <th>Unnamed: 0</th>\n",
       "      <th>inm_floor</th>\n",
       "      <th>inm_size</th>\n",
       "      <th>inm_price</th>\n",
       "      <th>inm_longitude</th>\n",
       "      <th>inm_latitude</th>\n",
       "      <th>his_price</th>\n",
       "      <th>his_quarterly_variation</th>\n",
       "      <th>his_annual_variation</th>\n",
       "      <th>his_monthly_variation</th>\n",
       "      <th>...</th>\n",
       "      <th>dem_TasaDeParo</th>\n",
       "      <th>dem_TamanoMedioDelHogar</th>\n",
       "      <th>dem_PropSinEstudiosUniversitarios</th>\n",
       "      <th>dem_PropSinEstudios</th>\n",
       "      <th>dem_Proporcion_de_nacidos_fuera_de_Espana</th>\n",
       "      <th>dem_PropConEstudiosUniversitarios</th>\n",
       "      <th>dem_PobTotal</th>\n",
       "      <th>dem_NumViviendas</th>\n",
       "      <th>dem_EdadMedia</th>\n",
       "      <th>dem_Densidad_(Habit/Ha)</th>\n",
       "    </tr>\n",
       "  </thead>\n",
       "  <tbody>\n",
       "    <tr>\n",
       "      <th>count</th>\n",
       "      <td>17857.000000</td>\n",
       "      <td>17857.000000</td>\n",
       "      <td>17857.000000</td>\n",
       "      <td>1.785700e+04</td>\n",
       "      <td>17857.000000</td>\n",
       "      <td>17857.000000</td>\n",
       "      <td>17857.000000</td>\n",
       "      <td>17857.000000</td>\n",
       "      <td>17857.000000</td>\n",
       "      <td>17857.000000</td>\n",
       "      <td>...</td>\n",
       "      <td>17857.000000</td>\n",
       "      <td>17857.000000</td>\n",
       "      <td>17857.000000</td>\n",
       "      <td>17857.000000</td>\n",
       "      <td>17857.000000</td>\n",
       "      <td>17857.000000</td>\n",
       "      <td>17857.000000</td>\n",
       "      <td>17857.000000</td>\n",
       "      <td>17857.000000</td>\n",
       "      <td>17857.000000</td>\n",
       "    </tr>\n",
       "    <tr>\n",
       "      <th>mean</th>\n",
       "      <td>8928.000000</td>\n",
       "      <td>2.548636</td>\n",
       "      <td>143.965799</td>\n",
       "      <td>6.964702e+05</td>\n",
       "      <td>-3.688064</td>\n",
       "      <td>40.424817</td>\n",
       "      <td>3993.643389</td>\n",
       "      <td>0.437918</td>\n",
       "      <td>-1.814499</td>\n",
       "      <td>0.035549</td>\n",
       "      <td>...</td>\n",
       "      <td>8.736896</td>\n",
       "      <td>2.487494</td>\n",
       "      <td>0.436518</td>\n",
       "      <td>0.124281</td>\n",
       "      <td>24.851753</td>\n",
       "      <td>0.439830</td>\n",
       "      <td>28281.995296</td>\n",
       "      <td>11515.008960</td>\n",
       "      <td>44.395055</td>\n",
       "      <td>233.372820</td>\n",
       "    </tr>\n",
       "    <tr>\n",
       "      <th>std</th>\n",
       "      <td>5155.016214</td>\n",
       "      <td>2.137757</td>\n",
       "      <td>153.098009</td>\n",
       "      <td>8.547274e+05</td>\n",
       "      <td>0.039164</td>\n",
       "      <td>0.031176</td>\n",
       "      <td>1589.895597</td>\n",
       "      <td>2.510048</td>\n",
       "      <td>3.847875</td>\n",
       "      <td>1.533065</td>\n",
       "      <td>...</td>\n",
       "      <td>3.042722</td>\n",
       "      <td>0.300608</td>\n",
       "      <td>0.109068</td>\n",
       "      <td>0.076923</td>\n",
       "      <td>8.542049</td>\n",
       "      <td>0.172195</td>\n",
       "      <td>13117.299282</td>\n",
       "      <td>5322.072109</td>\n",
       "      <td>2.706536</td>\n",
       "      <td>122.653928</td>\n",
       "    </tr>\n",
       "    <tr>\n",
       "      <th>min</th>\n",
       "      <td>0.000000</td>\n",
       "      <td>-1.000000</td>\n",
       "      <td>8.000000</td>\n",
       "      <td>1.600000e+04</td>\n",
       "      <td>-3.837697</td>\n",
       "      <td>40.328140</td>\n",
       "      <td>1290.000000</td>\n",
       "      <td>-16.100000</td>\n",
       "      <td>-11.600000</td>\n",
       "      <td>-5.200000</td>\n",
       "      <td>...</td>\n",
       "      <td>3.643735</td>\n",
       "      <td>1.975877</td>\n",
       "      <td>0.246480</td>\n",
       "      <td>0.036422</td>\n",
       "      <td>8.884988</td>\n",
       "      <td>0.072421</td>\n",
       "      <td>2398.000000</td>\n",
       "      <td>872.000000</td>\n",
       "      <td>33.198916</td>\n",
       "      <td>2.267773</td>\n",
       "    </tr>\n",
       "    <tr>\n",
       "      <th>25%</th>\n",
       "      <td>4464.000000</td>\n",
       "      <td>1.000000</td>\n",
       "      <td>69.000000</td>\n",
       "      <td>1.899000e+05</td>\n",
       "      <td>-3.708170</td>\n",
       "      <td>40.402633</td>\n",
       "      <td>2578.000000</td>\n",
       "      <td>-1.100000</td>\n",
       "      <td>-4.300000</td>\n",
       "      <td>-0.600000</td>\n",
       "      <td>...</td>\n",
       "      <td>6.291480</td>\n",
       "      <td>2.297491</td>\n",
       "      <td>0.340818</td>\n",
       "      <td>0.062095</td>\n",
       "      <td>18.746056</td>\n",
       "      <td>0.290539</td>\n",
       "      <td>18785.000000</td>\n",
       "      <td>8011.000000</td>\n",
       "      <td>43.271537</td>\n",
       "      <td>155.641754</td>\n",
       "    </tr>\n",
       "    <tr>\n",
       "      <th>50%</th>\n",
       "      <td>8928.000000</td>\n",
       "      <td>2.000000</td>\n",
       "      <td>98.000000</td>\n",
       "      <td>3.700000e+05</td>\n",
       "      <td>-3.692498</td>\n",
       "      <td>40.426586</td>\n",
       "      <td>4049.000000</td>\n",
       "      <td>0.500000</td>\n",
       "      <td>-2.200000</td>\n",
       "      <td>0.000000</td>\n",
       "      <td>...</td>\n",
       "      <td>8.076921</td>\n",
       "      <td>2.466320</td>\n",
       "      <td>0.391468</td>\n",
       "      <td>0.085268</td>\n",
       "      <td>23.400147</td>\n",
       "      <td>0.483665</td>\n",
       "      <td>25023.000000</td>\n",
       "      <td>10637.000000</td>\n",
       "      <td>45.113343</td>\n",
       "      <td>228.165728</td>\n",
       "    </tr>\n",
       "    <tr>\n",
       "      <th>75%</th>\n",
       "      <td>13392.000000</td>\n",
       "      <td>3.000000</td>\n",
       "      <td>154.000000</td>\n",
       "      <td>8.490000e+05</td>\n",
       "      <td>-3.669516</td>\n",
       "      <td>40.446864</td>\n",
       "      <td>5106.000000</td>\n",
       "      <td>1.900000</td>\n",
       "      <td>-0.100000</td>\n",
       "      <td>0.900000</td>\n",
       "      <td>...</td>\n",
       "      <td>10.802359</td>\n",
       "      <td>2.673612</td>\n",
       "      <td>0.551965</td>\n",
       "      <td>0.191202</td>\n",
       "      <td>31.219133</td>\n",
       "      <td>0.591390</td>\n",
       "      <td>36922.000000</td>\n",
       "      <td>15312.000000</td>\n",
       "      <td>46.234380</td>\n",
       "      <td>322.402577</td>\n",
       "    </tr>\n",
       "    <tr>\n",
       "      <th>max</th>\n",
       "      <td>17856.000000</td>\n",
       "      <td>60.000000</td>\n",
       "      <td>2400.000000</td>\n",
       "      <td>1.500000e+07</td>\n",
       "      <td>-3.545674</td>\n",
       "      <td>40.507659</td>\n",
       "      <td>8299.000000</td>\n",
       "      <td>12.200000</td>\n",
       "      <td>17.200000</td>\n",
       "      <td>8.100000</td>\n",
       "      <td>...</td>\n",
       "      <td>18.030112</td>\n",
       "      <td>3.506552</td>\n",
       "      <td>0.641264</td>\n",
       "      <td>0.355659</td>\n",
       "      <td>53.296248</td>\n",
       "      <td>0.699977</td>\n",
       "      <td>67418.000000</td>\n",
       "      <td>26836.000000</td>\n",
       "      <td>49.332035</td>\n",
       "      <td>460.612389</td>\n",
       "    </tr>\n",
       "  </tbody>\n",
       "</table>\n",
       "<p>8 rows × 24 columns</p>\n",
       "</div>"
      ],
      "text/plain": [
       "         Unnamed: 0     inm_floor      inm_size     inm_price  inm_longitude  \\\n",
       "count  17857.000000  17857.000000  17857.000000  1.785700e+04   17857.000000   \n",
       "mean    8928.000000      2.548636    143.965799  6.964702e+05      -3.688064   \n",
       "std     5155.016214      2.137757    153.098009  8.547274e+05       0.039164   \n",
       "min        0.000000     -1.000000      8.000000  1.600000e+04      -3.837697   \n",
       "25%     4464.000000      1.000000     69.000000  1.899000e+05      -3.708170   \n",
       "50%     8928.000000      2.000000     98.000000  3.700000e+05      -3.692498   \n",
       "75%    13392.000000      3.000000    154.000000  8.490000e+05      -3.669516   \n",
       "max    17856.000000     60.000000   2400.000000  1.500000e+07      -3.545674   \n",
       "\n",
       "       inm_latitude     his_price  his_quarterly_variation  \\\n",
       "count  17857.000000  17857.000000             17857.000000   \n",
       "mean      40.424817   3993.643389                 0.437918   \n",
       "std        0.031176   1589.895597                 2.510048   \n",
       "min       40.328140   1290.000000               -16.100000   \n",
       "25%       40.402633   2578.000000                -1.100000   \n",
       "50%       40.426586   4049.000000                 0.500000   \n",
       "75%       40.446864   5106.000000                 1.900000   \n",
       "max       40.507659   8299.000000                12.200000   \n",
       "\n",
       "       his_annual_variation  his_monthly_variation  ...  dem_TasaDeParo  \\\n",
       "count          17857.000000           17857.000000  ...    17857.000000   \n",
       "mean              -1.814499               0.035549  ...        8.736896   \n",
       "std                3.847875               1.533065  ...        3.042722   \n",
       "min              -11.600000              -5.200000  ...        3.643735   \n",
       "25%               -4.300000              -0.600000  ...        6.291480   \n",
       "50%               -2.200000               0.000000  ...        8.076921   \n",
       "75%               -0.100000               0.900000  ...       10.802359   \n",
       "max               17.200000               8.100000  ...       18.030112   \n",
       "\n",
       "       dem_TamanoMedioDelHogar  dem_PropSinEstudiosUniversitarios  \\\n",
       "count             17857.000000                       17857.000000   \n",
       "mean                  2.487494                           0.436518   \n",
       "std                   0.300608                           0.109068   \n",
       "min                   1.975877                           0.246480   \n",
       "25%                   2.297491                           0.340818   \n",
       "50%                   2.466320                           0.391468   \n",
       "75%                   2.673612                           0.551965   \n",
       "max                   3.506552                           0.641264   \n",
       "\n",
       "       dem_PropSinEstudios  dem_Proporcion_de_nacidos_fuera_de_Espana  \\\n",
       "count         17857.000000                               17857.000000   \n",
       "mean              0.124281                                  24.851753   \n",
       "std               0.076923                                   8.542049   \n",
       "min               0.036422                                   8.884988   \n",
       "25%               0.062095                                  18.746056   \n",
       "50%               0.085268                                  23.400147   \n",
       "75%               0.191202                                  31.219133   \n",
       "max               0.355659                                  53.296248   \n",
       "\n",
       "       dem_PropConEstudiosUniversitarios  dem_PobTotal  dem_NumViviendas  \\\n",
       "count                       17857.000000  17857.000000      17857.000000   \n",
       "mean                            0.439830  28281.995296      11515.008960   \n",
       "std                             0.172195  13117.299282       5322.072109   \n",
       "min                             0.072421   2398.000000        872.000000   \n",
       "25%                             0.290539  18785.000000       8011.000000   \n",
       "50%                             0.483665  25023.000000      10637.000000   \n",
       "75%                             0.591390  36922.000000      15312.000000   \n",
       "max                             0.699977  67418.000000      26836.000000   \n",
       "\n",
       "       dem_EdadMedia  dem_Densidad_(Habit/Ha)  \n",
       "count   17857.000000             17857.000000  \n",
       "mean       44.395055               233.372820  \n",
       "std         2.706536               122.653928  \n",
       "min        33.198916                 2.267773  \n",
       "25%        43.271537               155.641754  \n",
       "50%        45.113343               228.165728  \n",
       "75%        46.234380               322.402577  \n",
       "max        49.332035               460.612389  \n",
       "\n",
       "[8 rows x 24 columns]"
      ]
     },
     "execution_count": 33,
     "metadata": {},
     "output_type": "execute_result"
    }
   ],
   "source": [
    "df.describe()"
   ]
  },
  {
   "cell_type": "markdown",
   "metadata": {},
   "source": [
    "Insights\n",
    "\n",
    "- Property Size (inm_size):\n",
    "\n",
    "The average property size is approximately 143.97 square meters, with a median of 98 square meters.\n",
    "The dataset includes properties as small as 8 square meters and as large as 2,400 square meters.\n",
    "\n",
    "- Property Price (inm_price):\n",
    "\n",
    "Property prices vary widely, with an average price of approximately €696,470.\n",
    "The median price is €370,000, indicating that half of the properties are priced below this value.\n",
    "The dataset includes properties with prices ranging from €16,000 to €15,000,000.\n",
    "\n",
    "- Floor Numbers (inm_floor):\n",
    "\n",
    "The average floor number is around 2.55, with a range from -1 (possibly basement) to 60 (possibly penthouse).\n",
    "Most properties are on lower floors, as indicated by the median value of 2.\n",
    "\n",
    "- Geographical Coordinates (inm_longitude and inm_latitude):\n",
    "\n",
    "The dataset covers properties across different geographic locations within Madrid.\n",
    "Longitude values range from approximately -3.837 to -3.546, and latitude values range from 40.328 to 40.508.\n",
    "\n",
    "- Historical Price Trends (his_price):\n",
    "\n",
    "Historical property prices exhibit fluctuations, with an average historical price of approximately €3,993.\n",
    "\n",
    "- Demographic Information:\n",
    "\n",
    "Average age (dem_EdadMedia) of the population is around 44.4 years.\n",
    "\n",
    "- Proportion of the population with university education \n",
    "\n",
    "(dem_PropConEstudiosUniversitarios) averages around 43.98%.\n",
    "Population density (dem_Densidad_(Habit/Ha)) varies widely, from approximately 2.27 to 460.61 inhabitants per hectare.\n",
    "\n",
    "- Unemployment Rate (dem_TasaDeParo):\n",
    "\n",
    "The average unemployment rate is approximately 8.74%.\n",
    "Unemployment rates range from 3.64% to 18.03%, indicating regional variations.\n"
   ]
  }
 ],
 "metadata": {
  "kernelspec": {
   "display_name": "Python 3",
   "language": "python",
   "name": "python3"
  },
  "language_info": {
   "codemirror_mode": {
    "name": "ipython",
    "version": 3
   },
   "file_extension": ".py",
   "mimetype": "text/x-python",
   "name": "python",
   "nbconvert_exporter": "python",
   "pygments_lexer": "ipython3",
   "version": "3.9.0"
  }
 },
 "nbformat": 4,
 "nbformat_minor": 2
}
