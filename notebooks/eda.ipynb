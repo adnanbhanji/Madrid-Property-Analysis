{
 "cells": [
  {
   "cell_type": "markdown",
   "metadata": {},
   "source": [
    "## Madrid Property Analysis"
   ]
  },
  {
   "cell_type": "markdown",
   "metadata": {},
   "source": [
    "Life cycle of Machine learning Project\n",
    "- Understanding the Problem Statement\n",
    "- Data Collection\n",
    "- Data Checks to perform\n",
    "- Exploratory data analysis\n",
    "- Data Pre-Processing\n",
    "- Model Training\n",
    "- Choose best model"
   ]
  },
  {
   "cell_type": "markdown",
   "metadata": {},
   "source": [
    "#### 1) Problem statement\n",
    "- This project uses the provided dataset to estimate property prices in Madrid, with a regression model using algorithms seen in class. Then the problem is redifined to create a classification problem. "
   ]
  },
  {
   "cell_type": "markdown",
   "metadata": {},
   "source": [
    "#### 2) Data Collection\n",
    "- Dataset Source - The dataset was provided to us and is located in the data/raw directory. \n",
    "- The data consists of 17857 rows and 26 columns."
   ]
  },
  {
   "cell_type": "markdown",
   "metadata": {},
   "source": [
    "##### 2.1 Import Data and Required Packages"
   ]
  },
  {
   "cell_type": "markdown",
   "metadata": {},
   "source": [
    "Importing Pandas, Numpy, Matplotlib, Seaborn and Warings Library."
   ]
  },
  {
   "cell_type": "code",
   "execution_count": 7,
   "metadata": {},
   "outputs": [],
   "source": [
    "import numpy as np\n",
    "import pandas as pd\n",
    "import seaborn as sns\n",
    "import matplotlib.pyplot as plt\n",
    "import openpyxl\n",
    "%matplotlib inline\n",
    "import warnings\n",
    "warnings.filterwarnings('ignore')"
   ]
  },
  {
   "cell_type": "markdown",
   "metadata": {},
   "source": [
    "Import the Excel Data as Pandas DataFrame"
   ]
  },
  {
   "cell_type": "code",
   "execution_count": 9,
   "metadata": {},
   "outputs": [],
   "source": [
    "df = pd.read_excel('../data/raw/session_7_dataset.xlsx')"
   ]
  },
  {
   "cell_type": "markdown",
   "metadata": {},
   "source": [
    "Show Top 5 Records"
   ]
  },
  {
   "cell_type": "code",
   "execution_count": 16,
   "metadata": {},
   "outputs": [
    {
     "data": {
      "text/html": [
       "<div>\n",
       "<style scoped>\n",
       "    .dataframe tbody tr th:only-of-type {\n",
       "        vertical-align: middle;\n",
       "    }\n",
       "\n",
       "    .dataframe tbody tr th {\n",
       "        vertical-align: top;\n",
       "    }\n",
       "\n",
       "    .dataframe thead th {\n",
       "        text-align: right;\n",
       "    }\n",
       "</style>\n",
       "<table border=\"1\" class=\"dataframe\">\n",
       "  <thead>\n",
       "    <tr style=\"text-align: right;\">\n",
       "      <th></th>\n",
       "      <th>Unnamed: 0</th>\n",
       "      <th>inm_floor</th>\n",
       "      <th>inm_size</th>\n",
       "      <th>inm_price</th>\n",
       "      <th>inm_longitude</th>\n",
       "      <th>inm_latitude</th>\n",
       "      <th>inm_barrio</th>\n",
       "      <th>inm_distrito</th>\n",
       "      <th>his_price</th>\n",
       "      <th>his_quarterly_variation</th>\n",
       "      <th>...</th>\n",
       "      <th>dem_TasaDeParo</th>\n",
       "      <th>dem_TamanoMedioDelHogar</th>\n",
       "      <th>dem_PropSinEstudiosUniversitarios</th>\n",
       "      <th>dem_PropSinEstudios</th>\n",
       "      <th>dem_Proporcion_de_nacidos_fuera_de_Espana</th>\n",
       "      <th>dem_PropConEstudiosUniversitarios</th>\n",
       "      <th>dem_PobTotal</th>\n",
       "      <th>dem_NumViviendas</th>\n",
       "      <th>dem_EdadMedia</th>\n",
       "      <th>dem_Densidad_(Habit/Ha)</th>\n",
       "    </tr>\n",
       "  </thead>\n",
       "  <tbody>\n",
       "    <tr>\n",
       "      <th>0</th>\n",
       "      <td>0</td>\n",
       "      <td>3.0</td>\n",
       "      <td>141.0</td>\n",
       "      <td>990000</td>\n",
       "      <td>-3.656875</td>\n",
       "      <td>40.464347</td>\n",
       "      <td>Canillas</td>\n",
       "      <td>Hortaleza</td>\n",
       "      <td>3250</td>\n",
       "      <td>2.2</td>\n",
       "      <td>...</td>\n",
       "      <td>8.724674</td>\n",
       "      <td>2.527886</td>\n",
       "      <td>0.488949</td>\n",
       "      <td>0.175632</td>\n",
       "      <td>15.456193</td>\n",
       "      <td>NaN</td>\n",
       "      <td>40838</td>\n",
       "      <td>16155</td>\n",
       "      <td>NaN</td>\n",
       "      <td>161.894356</td>\n",
       "    </tr>\n",
       "    <tr>\n",
       "      <th>1</th>\n",
       "      <td>1</td>\n",
       "      <td>2.0</td>\n",
       "      <td>159.0</td>\n",
       "      <td>940000</td>\n",
       "      <td>-3.703523</td>\n",
       "      <td>40.419427</td>\n",
       "      <td>Universidad</td>\n",
       "      <td>Centro</td>\n",
       "      <td>5106</td>\n",
       "      <td>1.4</td>\n",
       "      <td>...</td>\n",
       "      <td>9.006094</td>\n",
       "      <td>1.975877</td>\n",
       "      <td>0.386598</td>\n",
       "      <td>0.083812</td>\n",
       "      <td>32.102460</td>\n",
       "      <td>0.529590</td>\n",
       "      <td>33418</td>\n",
       "      <td>16913</td>\n",
       "      <td>43.678945</td>\n",
       "      <td>352.500616</td>\n",
       "    </tr>\n",
       "    <tr>\n",
       "      <th>2</th>\n",
       "      <td>2</td>\n",
       "      <td>NaN</td>\n",
       "      <td>NaN</td>\n",
       "      <td>549000</td>\n",
       "      <td>-3.669626</td>\n",
       "      <td>40.435362</td>\n",
       "      <td>Guindalera</td>\n",
       "      <td>Salamanca</td>\n",
       "      <td>4100</td>\n",
       "      <td>0.6</td>\n",
       "      <td>...</td>\n",
       "      <td>7.441379</td>\n",
       "      <td>2.369951</td>\n",
       "      <td>0.365818</td>\n",
       "      <td>0.070351</td>\n",
       "      <td>18.224365</td>\n",
       "      <td>0.563831</td>\n",
       "      <td>42306</td>\n",
       "      <td>17851</td>\n",
       "      <td>46.477166</td>\n",
       "      <td>263.952286</td>\n",
       "    </tr>\n",
       "    <tr>\n",
       "      <th>3</th>\n",
       "      <td>3</td>\n",
       "      <td>2.0</td>\n",
       "      <td>232.0</td>\n",
       "      <td>750000</td>\n",
       "      <td>-3.720619</td>\n",
       "      <td>40.424164</td>\n",
       "      <td>Argüelles</td>\n",
       "      <td>Moncloa - Aravaca</td>\n",
       "      <td>4773</td>\n",
       "      <td>0.5</td>\n",
       "      <td>...</td>\n",
       "      <td>6.709633</td>\n",
       "      <td>2.328217</td>\n",
       "      <td>0.343683</td>\n",
       "      <td>0.066403</td>\n",
       "      <td>20.963846</td>\n",
       "      <td>0.589914</td>\n",
       "      <td>24423</td>\n",
       "      <td>10490</td>\n",
       "      <td>46.972342</td>\n",
       "      <td>322.402577</td>\n",
       "    </tr>\n",
       "    <tr>\n",
       "      <th>4</th>\n",
       "      <td>4</td>\n",
       "      <td>4.0</td>\n",
       "      <td>183.0</td>\n",
       "      <td>1550000</td>\n",
       "      <td>-3.705909</td>\n",
       "      <td>40.413214</td>\n",
       "      <td>Sol</td>\n",
       "      <td>Centro</td>\n",
       "      <td>4739</td>\n",
       "      <td>-5.5</td>\n",
       "      <td>...</td>\n",
       "      <td>9.058980</td>\n",
       "      <td>1.994244</td>\n",
       "      <td>0.433750</td>\n",
       "      <td>0.082242</td>\n",
       "      <td>39.490947</td>\n",
       "      <td>0.484009</td>\n",
       "      <td>7622</td>\n",
       "      <td>3822</td>\n",
       "      <td>44.632774</td>\n",
       "      <td>171.165183</td>\n",
       "    </tr>\n",
       "  </tbody>\n",
       "</table>\n",
       "<p>5 rows × 26 columns</p>\n",
       "</div>"
      ],
      "text/plain": [
       "   Unnamed: 0  inm_floor  inm_size  inm_price  inm_longitude  inm_latitude  \\\n",
       "0           0        3.0     141.0     990000      -3.656875     40.464347   \n",
       "1           1        2.0     159.0     940000      -3.703523     40.419427   \n",
       "2           2        NaN       NaN     549000      -3.669626     40.435362   \n",
       "3           3        2.0     232.0     750000      -3.720619     40.424164   \n",
       "4           4        4.0     183.0    1550000      -3.705909     40.413214   \n",
       "\n",
       "    inm_barrio       inm_distrito  his_price  his_quarterly_variation  ...  \\\n",
       "0     Canillas          Hortaleza       3250                      2.2  ...   \n",
       "1  Universidad             Centro       5106                      1.4  ...   \n",
       "2   Guindalera          Salamanca       4100                      0.6  ...   \n",
       "3    Argüelles  Moncloa - Aravaca       4773                      0.5  ...   \n",
       "4          Sol             Centro       4739                     -5.5  ...   \n",
       "\n",
       "   dem_TasaDeParo  dem_TamanoMedioDelHogar  dem_PropSinEstudiosUniversitarios  \\\n",
       "0        8.724674                 2.527886                           0.488949   \n",
       "1        9.006094                 1.975877                           0.386598   \n",
       "2        7.441379                 2.369951                           0.365818   \n",
       "3        6.709633                 2.328217                           0.343683   \n",
       "4        9.058980                 1.994244                           0.433750   \n",
       "\n",
       "   dem_PropSinEstudios  dem_Proporcion_de_nacidos_fuera_de_Espana  \\\n",
       "0             0.175632                                  15.456193   \n",
       "1             0.083812                                  32.102460   \n",
       "2             0.070351                                  18.224365   \n",
       "3             0.066403                                  20.963846   \n",
       "4             0.082242                                  39.490947   \n",
       "\n",
       "   dem_PropConEstudiosUniversitarios  dem_PobTotal  dem_NumViviendas  \\\n",
       "0                                NaN         40838             16155   \n",
       "1                           0.529590         33418             16913   \n",
       "2                           0.563831         42306             17851   \n",
       "3                           0.589914         24423             10490   \n",
       "4                           0.484009          7622              3822   \n",
       "\n",
       "   dem_EdadMedia  dem_Densidad_(Habit/Ha)  \n",
       "0            NaN               161.894356  \n",
       "1      43.678945               352.500616  \n",
       "2      46.477166               263.952286  \n",
       "3      46.972342               322.402577  \n",
       "4      44.632774               171.165183  \n",
       "\n",
       "[5 rows x 26 columns]"
      ]
     },
     "execution_count": 16,
     "metadata": {},
     "output_type": "execute_result"
    }
   ],
   "source": [
    "df.head()"
   ]
  },
  {
   "cell_type": "markdown",
   "metadata": {},
   "source": [
    "Shape of the dataset"
   ]
  },
  {
   "cell_type": "code",
   "execution_count": 17,
   "metadata": {},
   "outputs": [
    {
     "data": {
      "text/plain": [
       "(17857, 26)"
      ]
     },
     "execution_count": 17,
     "metadata": {},
     "output_type": "execute_result"
    }
   ],
   "source": [
    "df.shape"
   ]
  },
  {
   "cell_type": "markdown",
   "metadata": {},
   "source": [
    "##### 2.2 Dataset Information"
   ]
  },
  {
   "cell_type": "markdown",
   "metadata": {},
   "source": [
    " - Unnamed: 0: An index or identifier for the rows.\n",
    "- inm_floor: The floor number on which the property is located.\n",
    "- inm_size: The size of the property in square meters.\n",
    "- inm_price: The listing price of the property.\n",
    "- inm_longitude: The longitude coordinate of the property.\n",
    "- inm_latitude: The latitude coordinate of the property.\n",
    "- inm_barrio: The neighborhood name where the property is located.\n",
    "- inm_distrito: The district name where the property is located.\n",
    "- his_price: A historical pricing reference for the property.\n",
    "- his_quarterly_variation: The change in price from the previous quarter.\n",
    "- his_annual_variation: The change in price from the previous year.\n",
    "- his_monthly_variation: The change in price from the previous month.\n",
    "- dem_Indice_de_reemplazo_de_la_poblacion_activa: An index measuring the replacement rate of the working-age population.\n",
    "- dem_Indice_de_juventud: An index measuring the youthfulness of the population.\n",
    "- dem_Indice_de_estructura_de_la_poblacion_activa: An index reflecting the structure of the working-age population.\n",
    "dem_Indice_de_dependencia: An index measuring the dependency ratio in the population.\n",
    "- dem_TasaDeParo: The unemployment rate in the area.\n",
    "- dem_TamanoMedioDelHogar: The average household size.\n",
    "- dem_PropSinEstudiosUniversitarios: The proportion of the population without university-level education.\n",
    "- dem_PropSinEstudios: The proportion of the population without any educational qualifications.\n",
    "- dem_Proporcion_de_nacidos_fuera_de_Espana: The proportion of the population born outside of Spain.\n",
    "- dem_PropConEstudiosUniversitarios: The proportion of the population with university-level education.\n",
    "- dem_PobTotal: The total population in the area.\n",
    "- dem_NumViviendas: The total number of dwellings in the area.\n",
    "- dem_EdadMedia: The average age of the population in the area.\n",
    "- dem_Densidad_(Habit/Ha): The population density per hectare in the area.\n",
    "\n"
   ]
  },
  {
   "cell_type": "markdown",
   "metadata": {},
   "source": [
    "#### 3. Data Checks to perform\n",
    "\n",
    "- Check Missing values\n",
    "- Check Duplicates\n",
    "- Check data type\n",
    "- Check the number of unique values of each column\n",
    "- Check statistics of data set\n",
    "- Check various categories present in the different categorical column"
   ]
  },
  {
   "cell_type": "markdown",
   "metadata": {},
   "source": [
    "##### 3.1 Check Missing Values"
   ]
  },
  {
   "cell_type": "code",
   "execution_count": 18,
   "metadata": {},
   "outputs": [
    {
     "data": {
      "text/plain": [
       "Unnamed: 0                                            0\n",
       "inm_floor                                          3790\n",
       "inm_size                                           1767\n",
       "inm_price                                             0\n",
       "inm_longitude                                         0\n",
       "inm_latitude                                          0\n",
       "inm_barrio                                         1794\n",
       "inm_distrito                                       1747\n",
       "his_price                                             0\n",
       "his_quarterly_variation                               0\n",
       "his_annual_variation                                  0\n",
       "his_monthly_variation                                 0\n",
       "dem_Indice_de_reemplazo_de_la_poblacion_activa        0\n",
       "dem_Indice_de_juventud                                0\n",
       "dem_Indice_de_estructura_de_la_poblacion_activa       0\n",
       "dem_Indice_de_dependencia                             0\n",
       "dem_TasaDeParo                                        0\n",
       "dem_TamanoMedioDelHogar                               0\n",
       "dem_PropSinEstudiosUniversitarios                     0\n",
       "dem_PropSinEstudios                                   0\n",
       "dem_Proporcion_de_nacidos_fuera_de_Espana             0\n",
       "dem_PropConEstudiosUniversitarios                  1725\n",
       "dem_PobTotal                                          0\n",
       "dem_NumViviendas                                      0\n",
       "dem_EdadMedia                                      1790\n",
       "dem_Densidad_(Habit/Ha)                               0\n",
       "dtype: int64"
      ]
     },
     "execution_count": 18,
     "metadata": {},
     "output_type": "execute_result"
    }
   ],
   "source": [
    "df.isna().sum()"
   ]
  },
  {
   "cell_type": "markdown",
   "metadata": {},
   "source": [
    "Here's how we will take care of the missing values\n",
    "If there were a few or a small portion of values missing, we could delete them, however as the missing values are a large portion, we will do the following. \n",
    "\n",
    "- Mean / Median Imputation: For the numerical values, the mean/median imputation is one of the best techniques. Choosing which one from those will depend on how the data is skewed/ with outliers, (we will make a boxplot to visalize that)\n",
    "\n",
    "- For categorical values, we can fill with placeholders. \n"
   ]
  },
  {
   "cell_type": "code",
   "execution_count": 19,
   "metadata": {},
   "outputs": [
    {
     "data": {
      "image/png": "[encoded data removed]",
      "text/plain": [
       "<Figure size 1000x600 with 1 Axes>"
      ]
     },
     "metadata": {},
     "output_type": "display_data"
    }
   ],
   "source": [
    "# Plotting the boxplot for the 'inm_floor' column\n",
    "plt.figure(figsize=(10, 6))\n",
    "sns.boxplot(y=df['inm_floor'])\n",
    "plt.title('Boxplot of Floor Numbers')\n",
    "plt.ylabel('Floor Number')\n",
    "plt.show()"
   ]
  },
  {
   "cell_type": "markdown",
   "metadata": {},
   "source": [
    "Given the presence of outliers, using the median to impute missing values would be a better choice because the median is not affected by these extreme values as much as the mean would be. We can do so with the following."
   ]
  },
  {
   "cell_type": "code",
   "execution_count": 20,
   "metadata": {},
   "outputs": [],
   "source": [
    "# Calculate the median of the 'inm_floor' column\n",
    "floor_median = df['inm_floor'].median()\n",
    "\n",
    "# Replace missing values with the median\n",
    "df['inm_floor'].fillna(floor_median, inplace=True)"
   ]
  },
  {
   "cell_type": "markdown",
   "metadata": {},
   "source": [
    "Size is also very important and as we have many missing values, we can also perform a check for that. Instead of checking for outliers now, we can check and see if the data is very skewed, indicating we would need to use median imputation. "
   ]
  },
  {
   "cell_type": "code",
   "execution_count": 21,
   "metadata": {},
   "outputs": [
    {
     "data": {
      "image/png": "[encoded data removed]",
      "text/plain": [
       "<Figure size 1000x600 with 1 Axes>"
      ]
     },
     "metadata": {},
     "output_type": "display_data"
    }
   ],
   "source": [
    "# Plotting the histogram for the 'inm_size' column\n",
    "plt.figure(figsize=(10, 6))\n",
    "sns.histplot(df['inm_size'], kde=True)\n",
    "plt.title('Histogram of Property Sizes')\n",
    "plt.xlabel('Size in Square Meters')\n",
    "plt.ylabel('Frequency')\n",
    "plt.show()"
   ]
  },
  {
   "cell_type": "markdown",
   "metadata": {},
   "source": [
    "And as we can see, it appears to be very skewed, hence we will do median imputation. "
   ]
  },
  {
   "cell_type": "code",
   "execution_count": 22,
   "metadata": {},
   "outputs": [],
   "source": [
    "# Calculate the median of the 'inm_floor' column\n",
    "floor_median = df['inm_floor'].median()\n",
    "\n",
    "# Replace missing values with the median\n",
    "df['inm_floor'].fillna(floor_median, inplace=True)"
   ]
  },
  {
   "cell_type": "markdown",
   "metadata": {},
   "source": [
    "For inm_barrio and inm_distrito, as they are categorical values, we will use placeholder values of Unknown to fill them. "
   ]
  },
  {
   "cell_type": "code",
   "execution_count": 23,
   "metadata": {},
   "outputs": [],
   "source": [
    "# Fill missing values with \"Unknown\"\n",
    "df['inm_barrio'].fillna('Unknown', inplace=True)\n",
    "df['inm_distrito'].fillna('Unknown', inplace=True)"
   ]
  }
 ],
 "metadata": {
  "kernelspec": {
   "display_name": "Python 3",
   "language": "python",
   "name": "python3"
  },
  "language_info": {
   "codemirror_mode": {
    "name": "ipython",
    "version": 3
   },
   "file_extension": ".py",
   "mimetype": "text/x-python",
   "name": "python",
   "nbconvert_exporter": "python",
   "pygments_lexer": "ipython3",
   "version": "3.9.0"
  }
 },
 "nbformat": 4,
 "nbformat_minor": 2
}
