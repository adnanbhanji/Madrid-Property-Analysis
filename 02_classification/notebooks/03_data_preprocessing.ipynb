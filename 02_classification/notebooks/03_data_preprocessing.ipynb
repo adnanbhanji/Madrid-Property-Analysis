{
 "cells": [
  {
   "cell_type": "markdown",
   "metadata": {},
   "source": [
    "## Madrid Property Analysis"
   ]
  },
  {
   "cell_type": "markdown",
   "metadata": {},
   "source": [
    "#### 1) Data Cleaning\n",
    "- In this step we will clean our data. This includes taking care of missing values, duplicates, etc. We already did the checks in the start, so we know we don't have duplicates. We only need to take care of the missing values. "
   ]
  },
  {
   "cell_type": "markdown",
   "metadata": {},
   "source": [
    "Importing Pandas, Numpy, Matplotlib, Seaborn and Warings Library."
   ]
  },
  {
   "cell_type": "code",
   "execution_count": 29,
   "metadata": {},
   "outputs": [],
   "source": [
    "import numpy as np\n",
    "import pandas as pd\n",
    "import seaborn as sns\n",
    "import matplotlib.pyplot as plt\n",
    "import openpyxl\n",
    "%matplotlib inline\n",
    "import warnings\n",
    "warnings.filterwarnings('ignore')\n",
    "from sklearn.model_selection import StratifiedShuffleSplit\n"
   ]
  },
  {
   "cell_type": "markdown",
   "metadata": {},
   "source": [
    "Import the CSV Data as Pandas DataFrame"
   ]
  },
  {
   "cell_type": "code",
   "execution_count": 30,
   "metadata": {},
   "outputs": [],
   "source": [
    "df = pd.read_csv('../data/split/stratified_train_set.csv')\n",
    "test_df = pd.read_csv('../data/split/stratified_test_set.csv')"
   ]
  },
  {
   "cell_type": "markdown",
   "metadata": {},
   "source": [
    "We did this check to see the null values, and we can do it again just to refresh the data on the missing values. "
   ]
  },
  {
   "cell_type": "code",
   "execution_count": 31,
   "metadata": {},
   "outputs": [
    {
     "name": "stdout",
     "output_type": "stream",
     "text": [
      "inm_floor                                          3030\n",
      "inm_size                                           1417\n",
      "inm_price                                             0\n",
      "inm_longitude                                         0\n",
      "inm_latitude                                          0\n",
      "inm_barrio                                         1431\n",
      "inm_distrito                                       1384\n",
      "his_price                                             0\n",
      "his_quarterly_variation                               0\n",
      "his_annual_variation                                  0\n",
      "his_monthly_variation                                 0\n",
      "dem_Indice_de_reemplazo_de_la_poblacion_activa        0\n",
      "dem_Indice_de_juventud                                0\n",
      "dem_Indice_de_estructura_de_la_poblacion_activa       0\n",
      "dem_Indice_de_dependencia                             0\n",
      "dem_TasaDeParo                                        0\n",
      "dem_TamanoMedioDelHogar                               0\n",
      "dem_PropSinEstudiosUniversitarios                     0\n",
      "dem_PropSinEstudios                                   0\n",
      "dem_Proporcion_de_nacidos_fuera_de_Espana             0\n",
      "dem_PropConEstudiosUniversitarios                  1336\n",
      "dem_PobTotal                                          0\n",
      "dem_NumViviendas                                      0\n",
      "dem_EdadMedia                                      1423\n",
      "dem_Densidad_(Habit/Ha)                               0\n",
      "annualized_return                                     0\n",
      "socioeconomic_score                                   0\n",
      "investment_score                                      0\n",
      "investment_category                                   0\n",
      "dtype: int64\n"
     ]
    }
   ],
   "source": [
    "# Check for missing values in the dfFrame\n",
    "print(df.isnull().sum())"
   ]
  },
  {
   "cell_type": "markdown",
   "metadata": {},
   "source": [
    "Due to it being a significant amount of data, removing the rows or dropping the columns due to their importance is not a wise choice, hence we will go ahead with deciding which imputation to do. \n",
    "\n",
    "- Mean / Median Imputation: For the numerical values, the mean/median imputation is one of the best techniques. Choosing which one from those will depend on how the data is skewed/ with outliers, (we will make plots to visalize that)\n",
    "\n",
    "- For categorical values, we can fill with placeholders for now and then transform them to numerical values later on."
   ]
  },
  {
   "cell_type": "code",
   "execution_count": 32,
   "metadata": {},
   "outputs": [
    {
     "data": {
      "image/png": "[encoded data removed]",
      "text/plain": [
       "<Figure size 600x300 with 1 Axes>"
      ]
     },
     "metadata": {},
     "output_type": "display_data"
    }
   ],
   "source": [
    "# Plotting the boxplot for the 'inm_floor' column\n",
    "plt.figure(figsize=(6, 3))\n",
    "sns.boxplot(y=df['inm_floor'])\n",
    "plt.title('Boxplot of Floor Numbers')\n",
    "plt.ylabel('Floor Number')\n",
    "plt.show()"
   ]
  },
  {
   "cell_type": "markdown",
   "metadata": {},
   "source": [
    "Given the presence of outliers, using the median to impute missing values would be a better choice because the median is not affected by these extreme values as much as the mean would be. We can do so with the following."
   ]
  },
  {
   "cell_type": "code",
   "execution_count": 33,
   "metadata": {},
   "outputs": [],
   "source": [
    "# For the training set\n",
    "# Calculate the median of the 'inm_floor' column\n",
    "floor_median = df['inm_floor'].median()\n",
    "# Replace missing values with the median\n",
    "df['inm_floor'].fillna(floor_median, inplace=True)\n",
    "\n",
    "# For the test set\n",
    "# Replace missing values with the median\n",
    "test_df['inm_floor'].fillna(floor_median, inplace=True)"
   ]
  },
  {
   "cell_type": "markdown",
   "metadata": {},
   "source": [
    "From our exploration, we know that size is also very important and as we have many missing values, we can also perform a check for that. Instead of checking for outliers now, we can check and see if the data is very skewed, indicating we would need to use median imputation."
   ]
  },
  {
   "cell_type": "code",
   "execution_count": 34,
   "metadata": {},
   "outputs": [
    {
     "data": {
      "image/png": "[encoded data removed]",
      "text/plain": [
       "<Figure size 600x300 with 1 Axes>"
      ]
     },
     "metadata": {},
     "output_type": "display_data"
    }
   ],
   "source": [
    "# Plotting the histogram for the 'inm_size' column\n",
    "plt.figure(figsize=(6, 3))\n",
    "sns.histplot(df['inm_size'], kde=True)\n",
    "plt.title('Histogram of Property Sizes')\n",
    "plt.xlabel('Size in Square Meters')\n",
    "plt.ylabel('Frequency')\n",
    "plt.show()"
   ]
  },
  {
   "cell_type": "markdown",
   "metadata": {},
   "source": [
    "And as we can see, it appears to be very skewed, hence we will do median imputation."
   ]
  },
  {
   "cell_type": "code",
   "execution_count": 35,
   "metadata": {},
   "outputs": [],
   "source": [
    "# For the training set\n",
    "# Calculate the median of the 'inm_size' column\n",
    "size_median = df['inm_size'].median()\n",
    "# Replace missing values with the median\n",
    "df['inm_size'].fillna(size_median, inplace=True)\n",
    "\n",
    "# For the test set\n",
    "# Replace missing values with the median\n",
    "test_df['inm_size'].fillna(size_median, inplace=True)"
   ]
  },
  {
   "cell_type": "markdown",
   "metadata": {},
   "source": [
    "For inm_barrio and inm_distrito, as they are categorical values, we will use placeholder values of Unknown to fill them."
   ]
  },
  {
   "cell_type": "code",
   "execution_count": 36,
   "metadata": {},
   "outputs": [],
   "source": [
    "# For the training set\n",
    "# Fill missing values with \"Unknown\"\n",
    "df['inm_barrio'].fillna('Unknown', inplace=True)\n",
    "df['inm_distrito'].fillna('Unknown', inplace=True)\n",
    "\n",
    "# For the test set\n",
    "# Fill missing values with \"Unknown\"\n",
    "test_df['inm_barrio'].fillna('Unknown', inplace=True)\n",
    "test_df['inm_distrito'].fillna('Unknown', inplace=True)"
   ]
  },
  {
   "cell_type": "markdown",
   "metadata": {},
   "source": [
    "When dealing with demographic proportions or populations, again median imputation is typically a good solution as its robust to outliers and skewed distributions. However, we will first check with boxplots for the features dem_PropConEstudiosUniversitarios and dem_EdadMedia"
   ]
  },
  {
   "cell_type": "code",
   "execution_count": 37,
   "metadata": {},
   "outputs": [
    {
     "data": {
      "image/png": "[encoded data removed]",
      "text/plain": [
       "<Figure size 1200x400 with 2 Axes>"
      ]
     },
     "metadata": {},
     "output_type": "display_data"
    }
   ],
   "source": [
    "# Plotting boxplots for 'dem_PropConEstudiosUniversitarios' and 'dem_EdadMedia'\n",
    "fig, axes = plt.subplots(1, 2, figsize=(12, 4))\n",
    "\n",
    "# Boxplot for 'dem_PropConEstudiosUniversitarios'\n",
    "sns.boxplot(y=df['dem_PropConEstudiosUniversitarios'], ax=axes[0])\n",
    "axes[0].set_title('Boxplot of Proportion with University Education')\n",
    "\n",
    "# Boxplot for 'dem_EdadMedia'\n",
    "sns.boxplot(y=df['dem_EdadMedia'], ax=axes[1])\n",
    "axes[1].set_title('Boxplot of Average Age')\n",
    "\n",
    "plt.tight_layout()\n",
    "plt.show()"
   ]
  },
  {
   "cell_type": "markdown",
   "metadata": {},
   "source": [
    "Based on above results, the first one doesn't have outliers and doesn't seem very skewed, so will use mean for that, and median for the second one."
   ]
  },
  {
   "cell_type": "code",
   "execution_count": 38,
   "metadata": {},
   "outputs": [],
   "source": [
    "# For the training set\n",
    "# Imputation for 'dem_PropConEstudiosUniversitarios' using the mean\n",
    "prop_univ_mean = df['dem_PropConEstudiosUniversitarios'].mean()\n",
    "df['dem_PropConEstudiosUniversitarios'].fillna(prop_univ_mean, inplace=True)\n",
    "# Imputation for 'dem_EdadMedia' using the median\n",
    "edad_media_median = df['dem_EdadMedia'].median()\n",
    "df['dem_EdadMedia'].fillna(edad_media_median, inplace=True)\n",
    "\n",
    "# For the test set\n",
    "test_df['dem_PropConEstudiosUniversitarios'].fillna(prop_univ_mean, inplace=True)\n",
    "test_df['dem_EdadMedia'].fillna(edad_media_median, inplace=True)"
   ]
  },
  {
   "cell_type": "markdown",
   "metadata": {},
   "source": [
    "Lastly, we featured a new variable called the education_level_index which also has missing values. We will follow the same step to take care of that. "
   ]
  },
  {
   "cell_type": "code",
   "execution_count": 14,
   "metadata": {},
   "outputs": [],
   "source": [
    "# # Plotting the histogram for the 'inm_size' column\n",
    "# plt.figure(figsize=(6, 3))\n",
    "# sns.histplot(df['education_level_index'], kde=True)\n",
    "# plt.title('Histogram of education_level_index')\n",
    "# plt.xlabel('education_level_index')\n",
    "# plt.ylabel('Frequency')\n",
    "# plt.show()"
   ]
  },
  {
   "cell_type": "markdown",
   "metadata": {},
   "source": [
    "Based on the histogram, it looks like the data is not normally distributed; it has a peak towards the higher end of the index values. This kind of distribution appears to be left-skewed, meaning there are a tail and a higher frequency of data points towards the higher end of the scale.\n",
    "\n",
    "As we've been operating for these situations, we will prefer the median over the mean for imputation because the mean is influenced by the skewness and might not represent the central tendency of the data accurately. The median, being the middle value, will not be as affected by the skew and will provide a more robust measure for central tendency in this case."
   ]
  },
  {
   "cell_type": "code",
   "execution_count": 15,
   "metadata": {},
   "outputs": [],
   "source": [
    "# # For the training set\n",
    "# # Calculate the median of the 'education_level_index' column\n",
    "# education = df['education_level_index'].median()\n",
    "# # Replace missing values with the median\n",
    "# df['education_level_index'].fillna(education, inplace=True)\n",
    "\n",
    "# # For the test set\n",
    "# # Replace missing values with the median\n",
    "# test_df['education_level_index'].fillna(education, inplace=True)"
   ]
  },
  {
   "cell_type": "markdown",
   "metadata": {},
   "source": [
    "After completing all imputations and taking care of all missing values, we can do a final check to see that there are no missing values anymore"
   ]
  },
  {
   "cell_type": "code",
   "execution_count": 39,
   "metadata": {},
   "outputs": [
    {
     "name": "stdout",
     "output_type": "stream",
     "text": [
      "inm_floor                                          0\n",
      "inm_size                                           0\n",
      "inm_price                                          0\n",
      "inm_longitude                                      0\n",
      "inm_latitude                                       0\n",
      "inm_barrio                                         0\n",
      "inm_distrito                                       0\n",
      "his_price                                          0\n",
      "his_quarterly_variation                            0\n",
      "his_annual_variation                               0\n",
      "his_monthly_variation                              0\n",
      "dem_Indice_de_reemplazo_de_la_poblacion_activa     0\n",
      "dem_Indice_de_juventud                             0\n",
      "dem_Indice_de_estructura_de_la_poblacion_activa    0\n",
      "dem_Indice_de_dependencia                          0\n",
      "dem_TasaDeParo                                     0\n",
      "dem_TamanoMedioDelHogar                            0\n",
      "dem_PropSinEstudiosUniversitarios                  0\n",
      "dem_PropSinEstudios                                0\n",
      "dem_Proporcion_de_nacidos_fuera_de_Espana          0\n",
      "dem_PropConEstudiosUniversitarios                  0\n",
      "dem_PobTotal                                       0\n",
      "dem_NumViviendas                                   0\n",
      "dem_EdadMedia                                      0\n",
      "dem_Densidad_(Habit/Ha)                            0\n",
      "annualized_return                                  0\n",
      "socioeconomic_score                                0\n",
      "investment_score                                   0\n",
      "investment_category                                0\n",
      "dtype: int64\n",
      "inm_floor                                          0\n",
      "inm_size                                           0\n",
      "inm_price                                          0\n",
      "inm_longitude                                      0\n",
      "inm_latitude                                       0\n",
      "inm_barrio                                         0\n",
      "inm_distrito                                       0\n",
      "his_price                                          0\n",
      "his_quarterly_variation                            0\n",
      "his_annual_variation                               0\n",
      "his_monthly_variation                              0\n",
      "dem_Indice_de_reemplazo_de_la_poblacion_activa     0\n",
      "dem_Indice_de_juventud                             0\n",
      "dem_Indice_de_estructura_de_la_poblacion_activa    0\n",
      "dem_Indice_de_dependencia                          0\n",
      "dem_TasaDeParo                                     0\n",
      "dem_TamanoMedioDelHogar                            0\n",
      "dem_PropSinEstudiosUniversitarios                  0\n",
      "dem_PropSinEstudios                                0\n",
      "dem_Proporcion_de_nacidos_fuera_de_Espana          0\n",
      "dem_PropConEstudiosUniversitarios                  0\n",
      "dem_PobTotal                                       0\n",
      "dem_NumViviendas                                   0\n",
      "dem_EdadMedia                                      0\n",
      "dem_Densidad_(Habit/Ha)                            0\n",
      "annualized_return                                  0\n",
      "socioeconomic_score                                0\n",
      "investment_score                                   0\n",
      "investment_category                                0\n",
      "dtype: int64\n"
     ]
    }
   ],
   "source": [
    "print(df.isna().sum())\n",
    "print(test_df.isna().sum())"
   ]
  },
  {
   "cell_type": "markdown",
   "metadata": {},
   "source": [
    "As we can see, all the missing values have been taken care of, in the training and testing df. "
   ]
  },
  {
   "cell_type": "markdown",
   "metadata": {},
   "source": [
    "#### 2) Handling Categorical Variables\n",
    "- We have seen before that we have 2 categorical variables that may be of relation with the target. However, since Machine Learning algorithms prefer to work with numbers, we will convert these categories from text to numbers."
   ]
  },
  {
   "cell_type": "code",
   "execution_count": 40,
   "metadata": {},
   "outputs": [
    {
     "name": "stdout",
     "output_type": "stream",
     "text": [
      "We have 27 numerical features : ['inm_floor', 'inm_size', 'inm_price', 'inm_longitude', 'inm_latitude', 'his_price', 'his_quarterly_variation', 'his_annual_variation', 'his_monthly_variation', 'dem_Indice_de_reemplazo_de_la_poblacion_activa', 'dem_Indice_de_juventud', 'dem_Indice_de_estructura_de_la_poblacion_activa', 'dem_Indice_de_dependencia', 'dem_TasaDeParo', 'dem_TamanoMedioDelHogar', 'dem_PropSinEstudiosUniversitarios', 'dem_PropSinEstudios', 'dem_Proporcion_de_nacidos_fuera_de_Espana', 'dem_PropConEstudiosUniversitarios', 'dem_PobTotal', 'dem_NumViviendas', 'dem_EdadMedia', 'dem_Densidad_(Habit/Ha)', 'annualized_return', 'socioeconomic_score', 'investment_score', 'investment_category']\n",
      "\n",
      "We have 2 categorical features : ['inm_barrio', 'inm_distrito']\n"
     ]
    }
   ],
   "source": [
    "# define numerical & categorical columns\n",
    "numeric_features = [feature for feature in df.columns if df[feature].dtype != 'O']\n",
    "categorical_features = [feature for feature in df.columns if df[feature].dtype == 'O']\n",
    "\n",
    "# print columns\n",
    "print('We have {} numerical features : {}'.format(len(numeric_features), numeric_features))\n",
    "print('\\nWe have {} categorical features : {}'.format(len(categorical_features), categorical_features))"
   ]
  },
  {
   "cell_type": "code",
   "execution_count": 18,
   "metadata": {},
   "outputs": [
    {
     "data": {
      "text/plain": [
       "inm_floor                                             23\n",
       "inm_size                                             650\n",
       "inm_price                                           2106\n",
       "inm_longitude                                      12960\n",
       "inm_latitude                                       13029\n",
       "inm_barrio                                           122\n",
       "inm_distrito                                          22\n",
       "his_price                                            120\n",
       "his_quarterly_variation                               70\n",
       "his_annual_variation                                  89\n",
       "his_monthly_variation                                 57\n",
       "dem_Indice_de_reemplazo_de_la_poblacion_activa       121\n",
       "dem_Indice_de_juventud                               121\n",
       "dem_Indice_de_estructura_de_la_poblacion_activa      121\n",
       "dem_Indice_de_dependencia                            121\n",
       "dem_TasaDeParo                                       121\n",
       "dem_TamanoMedioDelHogar                              121\n",
       "dem_PropSinEstudiosUniversitarios                    121\n",
       "dem_PropSinEstudios                                  121\n",
       "dem_Proporcion_de_nacidos_fuera_de_Espana            121\n",
       "dem_PropConEstudiosUniversitarios                    122\n",
       "dem_PobTotal                                         121\n",
       "dem_NumViviendas                                     120\n",
       "dem_EdadMedia                                        121\n",
       "dem_Densidad_(Habit/Ha)                              121\n",
       "annualized_return                                   8934\n",
       "socioeconomic_score                                  242\n",
       "investment_score                                    9633\n",
       "investment_category                                    4\n",
       "dtype: int64"
      ]
     },
     "execution_count": 18,
     "metadata": {},
     "output_type": "execute_result"
    }
   ],
   "source": [
    "df.nunique()"
   ]
  },
  {
   "cell_type": "markdown",
   "metadata": {},
   "source": [
    "From the outputs, our categorical variables have unique values as shown:\n",
    "\n",
    "- inm_barrio                                           122\n",
    "- inm_distrito                                          22\n",
    "\n",
    "For distrcit, the variable with 22 unique values, they are nominal, so we will use one-hot encoding as the additional dimensions are not an issue for our dataset size.\n",
    "\n",
    "For neighborhood, the variable with 122 unique values, using one-hot encoding would create many additional features, which could lead to high dimensionality and potentially cause issues like the curse of dimensionality or model overfitting. Hence we will use frequency encoding for it as it will keep the feature space manageable.\n"
   ]
  },
  {
   "cell_type": "code",
   "execution_count": 41,
   "metadata": {},
   "outputs": [],
   "source": [
    "# One-hot encoding for the 'district' column\n",
    "train_one_hot = pd.get_dummies(df['inm_distrito'], prefix='inm_distrito')\n",
    "test_one_hot = pd.get_dummies(test_df['inm_distrito'], prefix='inm_distrito')\n",
    "\n",
    "# Align the one-hot encoded columns of train and test to ensure they have the same columns\n",
    "train_one_hot, test_one_hot = train_one_hot.align(test_one_hot, join='left', axis=1, fill_value=0)\n",
    "\n",
    "# Concatenate the one-hot encoded columns back to the original dataframes\n",
    "df = pd.concat([df, train_one_hot], axis=1)\n",
    "test_df = pd.concat([test_df, test_one_hot], axis=1)\n",
    "\n",
    "# Drop the original 'inm_distrito' column as it's now one-hot encoded\n",
    "df.drop('inm_distrito', axis=1, inplace=True)\n",
    "test_df.drop('inm_distrito', axis=1, inplace=True)\n",
    "\n",
    "# List of one-hot encoded columns to convert to integers\n",
    "one_hot_columns = [col for col in df.columns if 'inm_distrito_' in col]\n",
    "\n",
    "# Convert each boolean column to an integer type column\n",
    "for col in one_hot_columns:\n",
    "    df[col] = df[col].astype(int)\n",
    "    test_df[col] = test_df[col].astype(int)\n",
    "\n",
    "# Frequency encoding for the 'inm_barrio' column\n",
    "# Calculate frequencies\n",
    "frequency = df['inm_barrio'].value_counts(normalize=True)\n",
    "\n",
    "# Map frequencies to the train and test dataframes\n",
    "df['inm_barrio_freq'] = df['inm_barrio'].map(frequency)\n",
    "test_df['inm_barrio_freq'] = test_df['inm_barrio'].map(frequency).fillna(0)  # fill with 0 if not present in training\n",
    "\n",
    "# Drop the original 'inm_barrio' column as it's now frequency encoded\n",
    "df.drop('inm_barrio', axis=1, inplace=True)\n",
    "test_df.drop('inm_barrio', axis=1, inplace=True)\n",
    "\n",
    "# Now df and test_df have the 'inm_distrito' column one-hot encoded and 'inm_barrio' column frequency encoded"
   ]
  },
  {
   "cell_type": "code",
   "execution_count": 297,
   "metadata": {},
   "outputs": [],
   "source": [
    "# # Frequency encoding for the 'inm_barrio' column\n",
    "# # Calculate frequencies\n",
    "# frequency = df['inm_barrio'].value_counts(normalize=True)\n",
    "\n",
    "# # Map frequencies to the train and test dataframes\n",
    "# df['inm_barrio_freq'] = df['inm_barrio'].map(frequency)\n",
    "# test_df['inm_barrio_freq'] = test_df['inm_barrio'].map(frequency).fillna(0)  # fill with 0 if not present in training\n",
    "\n",
    "# # Drop the original 'inm_barrio' column as it's now frequency encoded\n",
    "# df.drop('inm_barrio', axis=1, inplace=True)\n",
    "# test_df.drop('inm_barrio', axis=1, inplace=True)\n",
    "\n",
    "# # Frequency encoding for the 'inm_barrio' column\n",
    "# # Calculate frequencies\n",
    "# frequency = df['inm_distrito'].value_counts(normalize=True)\n",
    "\n",
    "# # Map frequencies to the train and test dataframes\n",
    "# df['inm_distrito_freq'] = df['inm_distrito'].map(frequency)\n",
    "# test_df['inm_distrito_freq'] = test_df['inm_distrito'].map(frequency).fillna(0)  # fill with 0 if not present in training\n",
    "\n",
    "# # Drop the original 'inm_distrito' column as it's now frequency encoded\n",
    "# df.drop('inm_distrito', axis=1, inplace=True)\n",
    "# test_df.drop('inm_distrito', axis=1, inplace=True)\n",
    "\n",
    "\n"
   ]
  },
  {
   "cell_type": "code",
   "execution_count": 42,
   "metadata": {},
   "outputs": [
    {
     "name": "stdout",
     "output_type": "stream",
     "text": [
      "True\n"
     ]
    }
   ],
   "source": [
    "print(df.shape[1] == test_df.shape[1])"
   ]
  },
  {
   "cell_type": "markdown",
   "metadata": {},
   "source": [
    "#### 3) Feature Scaling\n",
    "- In this step we will scale our values as we have very different scales in the features. "
   ]
  },
  {
   "cell_type": "code",
   "execution_count": 43,
   "metadata": {},
   "outputs": [
    {
     "data": {
      "text/html": [
       "<div>\n",
       "<style scoped>\n",
       "    .dataframe tbody tr th:only-of-type {\n",
       "        vertical-align: middle;\n",
       "    }\n",
       "\n",
       "    .dataframe tbody tr th {\n",
       "        vertical-align: top;\n",
       "    }\n",
       "\n",
       "    .dataframe thead th {\n",
       "        text-align: right;\n",
       "    }\n",
       "</style>\n",
       "<table border=\"1\" class=\"dataframe\">\n",
       "  <thead>\n",
       "    <tr style=\"text-align: right;\">\n",
       "      <th></th>\n",
       "      <th>inm_floor</th>\n",
       "      <th>inm_size</th>\n",
       "      <th>inm_price</th>\n",
       "      <th>inm_longitude</th>\n",
       "      <th>inm_latitude</th>\n",
       "      <th>his_price</th>\n",
       "      <th>his_quarterly_variation</th>\n",
       "      <th>his_annual_variation</th>\n",
       "      <th>his_monthly_variation</th>\n",
       "      <th>dem_Indice_de_reemplazo_de_la_poblacion_activa</th>\n",
       "      <th>...</th>\n",
       "      <th>inm_distrito_Retiro</th>\n",
       "      <th>inm_distrito_Salamanca</th>\n",
       "      <th>inm_distrito_San Blas - Canillejas</th>\n",
       "      <th>inm_distrito_Tetuán</th>\n",
       "      <th>inm_distrito_Unknown</th>\n",
       "      <th>inm_distrito_Usera</th>\n",
       "      <th>inm_distrito_Vicálvaro</th>\n",
       "      <th>inm_distrito_Villa de Vallecas</th>\n",
       "      <th>inm_distrito_Villaverde</th>\n",
       "      <th>inm_barrio_freq</th>\n",
       "    </tr>\n",
       "  </thead>\n",
       "  <tbody>\n",
       "    <tr>\n",
       "      <th>0</th>\n",
       "      <td>17.0</td>\n",
       "      <td>2400.0</td>\n",
       "      <td>9100000.0</td>\n",
       "      <td>-3.547698</td>\n",
       "      <td>40.506627</td>\n",
       "      <td>8299.0</td>\n",
       "      <td>12.2</td>\n",
       "      <td>17.2</td>\n",
       "      <td>8.1</td>\n",
       "      <td>171.272727</td>\n",
       "      <td>...</td>\n",
       "      <td>1.0</td>\n",
       "      <td>1.0</td>\n",
       "      <td>1.0</td>\n",
       "      <td>1.0</td>\n",
       "      <td>1.0</td>\n",
       "      <td>1.0</td>\n",
       "      <td>1.0</td>\n",
       "      <td>1.0</td>\n",
       "      <td>1.0</td>\n",
       "      <td>0.100175</td>\n",
       "    </tr>\n",
       "  </tbody>\n",
       "</table>\n",
       "<p>1 rows × 50 columns</p>\n",
       "</div>"
      ],
      "text/plain": [
       "   inm_floor  inm_size  inm_price  inm_longitude  inm_latitude  his_price  \\\n",
       "0       17.0    2400.0  9100000.0      -3.547698     40.506627     8299.0   \n",
       "\n",
       "   his_quarterly_variation  his_annual_variation  his_monthly_variation  \\\n",
       "0                     12.2                  17.2                    8.1   \n",
       "\n",
       "   dem_Indice_de_reemplazo_de_la_poblacion_activa  ...  inm_distrito_Retiro  \\\n",
       "0                                      171.272727  ...                  1.0   \n",
       "\n",
       "   inm_distrito_Salamanca  inm_distrito_San Blas - Canillejas  \\\n",
       "0                     1.0                                 1.0   \n",
       "\n",
       "   inm_distrito_Tetuán  inm_distrito_Unknown  inm_distrito_Usera  \\\n",
       "0                  1.0                   1.0                 1.0   \n",
       "\n",
       "   inm_distrito_Vicálvaro  inm_distrito_Villa de Vallecas  \\\n",
       "0                     1.0                             1.0   \n",
       "\n",
       "   inm_distrito_Villaverde  inm_barrio_freq  \n",
       "0                      1.0         0.100175  \n",
       "\n",
       "[1 rows x 50 columns]"
      ]
     },
     "execution_count": 43,
     "metadata": {},
     "output_type": "execute_result"
    }
   ],
   "source": [
    "test_df.max().to_frame().T\n",
    "# pd.DataFrame(df.max()).T"
   ]
  },
  {
   "cell_type": "code",
   "execution_count": 44,
   "metadata": {},
   "outputs": [
    {
     "name": "stdout",
     "output_type": "stream",
     "text": [
      "inm_floor                                           0\n",
      "inm_size                                            0\n",
      "inm_price                                           0\n",
      "inm_longitude                                       0\n",
      "inm_latitude                                        0\n",
      "his_price                                           0\n",
      "his_quarterly_variation                             0\n",
      "his_annual_variation                                0\n",
      "his_monthly_variation                               0\n",
      "dem_Indice_de_reemplazo_de_la_poblacion_activa      0\n",
      "dem_Indice_de_juventud                              0\n",
      "dem_Indice_de_estructura_de_la_poblacion_activa     0\n",
      "dem_Indice_de_dependencia                           0\n",
      "dem_TasaDeParo                                      0\n",
      "dem_TamanoMedioDelHogar                             0\n",
      "dem_PropSinEstudiosUniversitarios                   0\n",
      "dem_PropSinEstudios                                 0\n",
      "dem_Proporcion_de_nacidos_fuera_de_Espana           0\n",
      "dem_PropConEstudiosUniversitarios                   0\n",
      "dem_PobTotal                                        0\n",
      "dem_NumViviendas                                    0\n",
      "dem_EdadMedia                                       0\n",
      "dem_Densidad_(Habit/Ha)                             0\n",
      "annualized_return                                  15\n",
      "socioeconomic_score                                 0\n",
      "investment_score                                   15\n",
      "investment_category                                 0\n",
      "inm_distrito_Arganzuela                             0\n",
      "inm_distrito_Barajas                                0\n",
      "inm_distrito_Carabanchel                            0\n",
      "inm_distrito_Centro                                 0\n",
      "inm_distrito_Chamartín                              0\n",
      "inm_distrito_Chamberí                               0\n",
      "inm_distrito_Ciudad Lineal                          0\n",
      "inm_distrito_Fuencarral - El Pardo                  0\n",
      "inm_distrito_Hortaleza                              0\n",
      "inm_distrito_Latina                                 0\n",
      "inm_distrito_Moncloa - Aravaca                      0\n",
      "inm_distrito_Moratalaz                              0\n",
      "inm_distrito_Puente de Vallecas                     0\n",
      "inm_distrito_Retiro                                 0\n",
      "inm_distrito_Salamanca                              0\n",
      "inm_distrito_San Blas - Canillejas                  0\n",
      "inm_distrito_Tetuán                                 0\n",
      "inm_distrito_Unknown                                0\n",
      "inm_distrito_Usera                                  0\n",
      "inm_distrito_Vicálvaro                              0\n",
      "inm_distrito_Villa de Vallecas                      0\n",
      "inm_distrito_Villaverde                             0\n",
      "inm_barrio_freq                                     0\n",
      "dtype: int64\n"
     ]
    }
   ],
   "source": [
    "# Check for infinities in your DataFrame\n",
    "print(test_df.isin([np.inf, -np.inf]).sum())\n"
   ]
  },
  {
   "cell_type": "code",
   "execution_count": 45,
   "metadata": {},
   "outputs": [],
   "source": [
    "df.replace([np.inf, -np.inf], np.nan, inplace=True)\n",
    "\n",
    "# Drop rows with NaN values\n",
    "df.dropna(inplace=True)\n",
    "\n",
    "test_df.replace([np.inf, -np.inf], np.nan, inplace=True)\n",
    "\n",
    "# Drop rows with NaN values\n",
    "test_df.dropna(inplace=True)"
   ]
  },
  {
   "cell_type": "code",
   "execution_count": 27,
   "metadata": {},
   "outputs": [],
   "source": [
    "# from sklearn.preprocessing import MinMaxScaler\n",
    "\n",
    "# # df and test_df are your training and testing data frames\n",
    "\n",
    "# # Initialize the MinMaxScaler\n",
    "# scaler = MinMaxScaler()\n",
    "\n",
    "# # Fit the scaler on the training data\n",
    "# scaler.fit(df)\n",
    "\n",
    "# # Transform both train and test data\n",
    "# df_scaled = scaler.transform(df)\n",
    "# test_df_scaled = scaler.transform(test_df)\n",
    "\n",
    "# # Convert the scaled arrays back to a DataFrame (if needed)\n",
    "# df_scaled = pd.DataFrame(df_scaled, columns=df.columns)\n",
    "# test_df_scaled = pd.DataFrame(test_df_scaled, columns=test_df.columns)\n"
   ]
  },
  {
   "cell_type": "code",
   "execution_count": 46,
   "metadata": {},
   "outputs": [],
   "source": [
    "from sklearn.preprocessing import MinMaxScaler\n",
    "\n",
    "# Assume 'investment_category' is your target variable\n",
    "# Make sure to replace 'investment_category' with the actual name of your target variable\n",
    "\n",
    "# Select features only, excluding the target variable for scaling\n",
    "features = df.drop('investment_category', axis=1)\n",
    "test_features = test_df.drop('investment_category', axis=1)\n",
    "\n",
    "# Initialize the MinMaxScaler\n",
    "scaler = MinMaxScaler()\n",
    "\n",
    "# Fit the scaler on the training data features only\n",
    "scaler.fit(features)\n",
    "\n",
    "# Transform the features of both train and test data\n",
    "df_scaled_features = scaler.transform(features)\n",
    "test_df_scaled_features = scaler.transform(test_features)\n",
    "\n",
    "# Convert the scaled arrays back to a DataFrame and include the target variable\n",
    "df_scaled = pd.DataFrame(df_scaled_features, columns=features.columns, index=df.index)\n",
    "test_df_scaled = pd.DataFrame(test_df_scaled_features, columns=test_features.columns, index=test_df.index)\n",
    "\n",
    "# Add the target variable back into the scaled DataFrames\n",
    "df_scaled['investment_category'] = df['investment_category']\n",
    "test_df_scaled['investment_category'] = test_df['investment_category']"
   ]
  },
  {
   "cell_type": "code",
   "execution_count": 47,
   "metadata": {},
   "outputs": [],
   "source": [
    "df_scaled.to_csv('../data/processed/processed_train_set.csv', index=False)\n",
    "test_df_scaled.to_csv('../data/processed/processed_test_set.csv', index=False)"
   ]
  }
 ],
 "metadata": {
  "kernelspec": {
   "display_name": "venv",
   "language": "python",
   "name": "python3"
  },
  "language_info": {
   "codemirror_mode": {
    "name": "ipython",
    "version": 3
   },
   "file_extension": ".py",
   "mimetype": "text/x-python",
   "name": "python",
   "nbconvert_exporter": "python",
   "pygments_lexer": "ipython3",
   "version": "3.9.0"
  }
 },
 "nbformat": 4,
 "nbformat_minor": 2
}
